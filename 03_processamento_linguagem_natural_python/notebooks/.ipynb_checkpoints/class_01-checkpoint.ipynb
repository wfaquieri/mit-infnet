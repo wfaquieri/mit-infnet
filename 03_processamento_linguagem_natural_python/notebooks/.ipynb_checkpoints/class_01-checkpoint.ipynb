{
 "cells": [
  {
   "cell_type": "code",
   "execution_count": 1,
   "id": "f0cd5515",
   "metadata": {},
   "outputs": [],
   "source": [
    "## class 01, 25.04.2022\n",
    "\n",
    "import nltk\n",
    "import spacy\n",
    "import numpy as np\n",
    "import pandas as pd\n",
    "# following line is optional for custom vocabulary installation\n",
    "# you can use nlp = spacy.load('en')\n",
    "nlp = spacy.load('en_core', parse=True, tag=True, entity=True)"
   ]
  }
 ],
 "metadata": {
  "kernelspec": {
   "display_name": "Python 3 (ipykernel)",
   "language": "python",
   "name": "python3"
  },
  "language_info": {
   "codemirror_mode": {
    "name": "ipython",
    "version": 3
   },
   "file_extension": ".py",
   "mimetype": "text/x-python",
   "name": "python",
   "nbconvert_exporter": "python",
   "pygments_lexer": "ipython3",
   "version": "3.9.7"
  }
 },
 "nbformat": 4,
 "nbformat_minor": 5
}
