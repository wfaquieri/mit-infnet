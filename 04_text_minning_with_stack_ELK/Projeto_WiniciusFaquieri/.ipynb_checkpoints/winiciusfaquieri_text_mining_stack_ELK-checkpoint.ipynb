{
 "cells": [
  {
   "cell_type": "code",
   "execution_count": null,
   "metadata": {},
   "outputs": [],
   "source": [
    "%%html\n",
    "<marquee style='width: 90%; color: blue;'><b>INSTITUTO INFNET | ESCOLA SUPERIOR DA\n",
    "TECNOLOGIA DA INFORMAÇÃO</b></marquee>"
   ]
  },
  {
   "cell_type": "markdown",
   "metadata": {
    "id": "ysdO5HTPl8B6"
   },
   "source": [
    "![logo_infnet.png](data:image/png;base64,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)"
   ]
  },
  {
   "cell_type": "markdown",
   "metadata": {
    "id": "RojVNLagiix3"
   },
   "source": [
    "<h2>Pós-graduação MIT em Inteligência Artificial, Machine Learning & Deep Learning</h2>\n",
    "\n",
    "<h3>Projeto da da disciplina de Mineração de texto com stack ELK.</h3>\n",
    "\n",
    "Bloco: Mineração de Texto e Processamento de Linguagem Natural\n",
    "\n",
    "Docente: Felipe Fink Grael\n",
    "\n",
    "Aluno: Winicius Botelho Faquieri \n",
    "\n",
    "---"
   ]
  },
  {
   "cell_type": "markdown",
   "metadata": {
    "id": "4FtPDXaFllR7"
   },
   "source": [
    "### Sumário\n",
    "* [Dataset](#dataset)\n",
    "* [Análise de Texto com Elasticsearch](#analyzer)\n",
    "* [Mapping e Configurações de Índice](#mapping)\n",
    "* [Imitando k-NN Com a query More Like This](#MLT)\n",
    "\n",
    "\n",
    "\n",
    "---"
   ]
  },
  {
   "cell_type": "markdown",
   "metadata": {},
   "source": [
    "<img src=\"www/Amazon_logo.svg.png\" width=\"300\"/>\n",
    "\n",
    "# [Dataset](#intro)\n",
    "\n",
    "\n",
    "Este conjunto de dados contém reviews para instrumentos musicais comprados na Amazon - http://jmcauley.ucsd.edu/data/amazon/, no período de 2004 a 2014. Os produtos receberam diversas avaliações de clientes, classificadas em um intervalo de 1 a 5. Mais importante do que a nota atribuída ao produto são os comentários ou reviews, onde os clientes que já adquiriram um produto específico relatam e detalham a sua experiência, desde a chegada do produto no destino até a qualidade do produto em si. O dataset foi obtido da plataforma Kaggle e possui 10.261 registros com as seguintes variáveis:  \n",
    "\n",
    "|Colunas        | Descrição                                        | N° Registros         |\n",
    "|---------------|--------------------------------------------------|----------------------|\n",
    "|reviewerID     | ID do revisor                                    | 10.261               |\n",
    "|asin           | ID do produto                                    | 10.261               |\n",
    "|reviewerName   | Nome do revisor                                  | 10.261               |\n",
    "|helpful        | Classificação de utilidade da revisão            | 10.261               |\n",
    "|reviewText     | Campo textual (resenha /crítica)                 | 10.261               |\n",
    "|overall        | Classificação atribuída (1 a 5)                  | 10.261               |\n",
    "|summary        | Resumo da revisão                                | 10.261               |\n",
    "|unixReviewTime | hora da revisão (hora unix)                      | 10.261               |\n",
    "|reviewTime     | hora da revisão (bruto)                          | 10.261               |\n",
    "\n",
    "\n"
   ]
  },
  {
   "cell_type": "markdown",
   "metadata": {},
   "source": [
    "**Objetivos**: No presente trabalho utilizaremos ténicas de NLP para inferir através da análise desses comentários se o sentimento do cliente foi positivo, neutro ou negativo. Mais especificamente, utilizaremos a query More Like This para realizar a predição do sentimento do cliente, simulando o algoritmo KNN (K Nearest Neighbor)."
   ]
  },
  {
   "cell_type": "code",
   "execution_count": 254,
   "metadata": {},
   "outputs": [],
   "source": [
    "# Bibliotecas:\n",
    "import pandas as pd\n",
    "from tqdm.auto import tqdm\n",
    "from elasticsearch import Elasticsearch\n",
    "from elasticsearch.helpers import bulk\n",
    "import urllib3\n",
    "import json\n",
    "from wordcloud import WordCloud\n",
    "import matplotlib.pyplot as plt\n",
    "from sklearn.metrics import classification_report"
   ]
  },
  {
   "cell_type": "code",
   "execution_count": 10,
   "metadata": {},
   "outputs": [
    {
     "data": {
      "text/html": [
       "<div>\n",
       "<style scoped>\n",
       "    .dataframe tbody tr th:only-of-type {\n",
       "        vertical-align: middle;\n",
       "    }\n",
       "\n",
       "    .dataframe tbody tr th {\n",
       "        vertical-align: top;\n",
       "    }\n",
       "\n",
       "    .dataframe thead th {\n",
       "        text-align: right;\n",
       "    }\n",
       "</style>\n",
       "<table border=\"1\" class=\"dataframe\">\n",
       "  <thead>\n",
       "    <tr style=\"text-align: right;\">\n",
       "      <th></th>\n",
       "      <th>reviewerID</th>\n",
       "      <th>asin</th>\n",
       "      <th>reviewerName</th>\n",
       "      <th>helpful</th>\n",
       "      <th>reviewText</th>\n",
       "      <th>overall</th>\n",
       "      <th>summary</th>\n",
       "      <th>unixReviewTime</th>\n",
       "      <th>reviewTime</th>\n",
       "    </tr>\n",
       "  </thead>\n",
       "  <tbody>\n",
       "    <tr>\n",
       "      <th>3628</th>\n",
       "      <td>A3N27L13CWJ9HY</td>\n",
       "      <td>B0006IQNCK</td>\n",
       "      <td>D. R. Smith</td>\n",
       "      <td>[4, 4]</td>\n",
       "      <td>I love these strings because the sounds are so...</td>\n",
       "      <td>5</td>\n",
       "      <td>Good tones</td>\n",
       "      <td>1317945600</td>\n",
       "      <td>10 7, 2011</td>\n",
       "    </tr>\n",
       "    <tr>\n",
       "      <th>753</th>\n",
       "      <td>A8AF0VV2LP4LV</td>\n",
       "      <td>B0002D0CA8</td>\n",
       "      <td>Ron1414</td>\n",
       "      <td>[0, 0]</td>\n",
       "      <td>I used to use Elixir Nano string, and a good a...</td>\n",
       "      <td>5</td>\n",
       "      <td>Excellent</td>\n",
       "      <td>1399334400</td>\n",
       "      <td>05 6, 2014</td>\n",
       "    </tr>\n",
       "    <tr>\n",
       "      <th>5254</th>\n",
       "      <td>A2IZ3ST24HSO4H</td>\n",
       "      <td>B000P5LVSK</td>\n",
       "      <td>David McCarthy</td>\n",
       "      <td>[0, 0]</td>\n",
       "      <td>I play metal so I need a strong pick (the Jazz...</td>\n",
       "      <td>5</td>\n",
       "      <td>one of my fav \"Jazz III\" guitar pics</td>\n",
       "      <td>1379376000</td>\n",
       "      <td>09 17, 2013</td>\n",
       "    </tr>\n",
       "    <tr>\n",
       "      <th>659</th>\n",
       "      <td>A19Q4B515ENF9C</td>\n",
       "      <td>B0002D0096</td>\n",
       "      <td>Richard L. Chism</td>\n",
       "      <td>[0, 0]</td>\n",
       "      <td>I bought this amp to replace a Squier SP-10 th...</td>\n",
       "      <td>5</td>\n",
       "      <td>Awesome Effects and a Great Sound</td>\n",
       "      <td>1381449600</td>\n",
       "      <td>10 11, 2013</td>\n",
       "    </tr>\n",
       "    <tr>\n",
       "      <th>7028</th>\n",
       "      <td>A306YUQBEB2R9T</td>\n",
       "      <td>B001W99HE8</td>\n",
       "      <td>debi</td>\n",
       "      <td>[0, 0]</td>\n",
       "      <td>This microphone pics up instruments quite a bi...</td>\n",
       "      <td>5</td>\n",
       "      <td>GLS Seems Better than Shure!</td>\n",
       "      <td>1358726400</td>\n",
       "      <td>01 21, 2013</td>\n",
       "    </tr>\n",
       "    <tr>\n",
       "      <th>5176</th>\n",
       "      <td>A10044ECXDUVKS</td>\n",
       "      <td>B000NJ2TIE</td>\n",
       "      <td>Dean J Copely</td>\n",
       "      <td>[0, 0]</td>\n",
       "      <td>Surprised really. For the price I dont think I...</td>\n",
       "      <td>4</td>\n",
       "      <td>These are actually very nice</td>\n",
       "      <td>1345161600</td>\n",
       "      <td>08 17, 2012</td>\n",
       "    </tr>\n",
       "    <tr>\n",
       "      <th>8927</th>\n",
       "      <td>A2Y2U697SS98E1</td>\n",
       "      <td>B004Z17008</td>\n",
       "      <td>John Wade Long Jr. \"LongJnSilver\"</td>\n",
       "      <td>[0, 0]</td>\n",
       "      <td>The Snark is great. I have 2 for my 4 ukuleles...</td>\n",
       "      <td>5</td>\n",
       "      <td>A+++</td>\n",
       "      <td>1398297600</td>\n",
       "      <td>04 24, 2014</td>\n",
       "    </tr>\n",
       "    <tr>\n",
       "      <th>9733</th>\n",
       "      <td>A7IZNVL7JXLM</td>\n",
       "      <td>B007T8OGLK</td>\n",
       "      <td>Carver \"Gadget guy\"</td>\n",
       "      <td>[4, 6]</td>\n",
       "      <td>I got this from a \"direct from china\" vendor. ...</td>\n",
       "      <td>3</td>\n",
       "      <td>Not bad for the price</td>\n",
       "      <td>1337817600</td>\n",
       "      <td>05 24, 2012</td>\n",
       "    </tr>\n",
       "    <tr>\n",
       "      <th>2076</th>\n",
       "      <td>A3QTFLU2ZWH7WS</td>\n",
       "      <td>B0002F7K7Y</td>\n",
       "      <td>Audie</td>\n",
       "      <td>[1, 1]</td>\n",
       "      <td>I love D'Adarrio strings. Great tone and it la...</td>\n",
       "      <td>5</td>\n",
       "      <td>D'Adarrio EXL140-3D Nickel Wound Electric Guit...</td>\n",
       "      <td>1350345600</td>\n",
       "      <td>10 16, 2012</td>\n",
       "    </tr>\n",
       "    <tr>\n",
       "      <th>7452</th>\n",
       "      <td>AJK15Q9JOEHRH</td>\n",
       "      <td>B002RLLD88</td>\n",
       "      <td>aceofbase</td>\n",
       "      <td>[0, 0]</td>\n",
       "      <td>Nice accessory, hold plenty of sticks, and the...</td>\n",
       "      <td>5</td>\n",
       "      <td>Nice accessory</td>\n",
       "      <td>1404691200</td>\n",
       "      <td>07 7, 2014</td>\n",
       "    </tr>\n",
       "  </tbody>\n",
       "</table>\n",
       "</div>"
      ],
      "text/plain": [
       "          reviewerID        asin                       reviewerName helpful  \\\n",
       "3628  A3N27L13CWJ9HY  B0006IQNCK                        D. R. Smith  [4, 4]   \n",
       "753    A8AF0VV2LP4LV  B0002D0CA8                            Ron1414  [0, 0]   \n",
       "5254  A2IZ3ST24HSO4H  B000P5LVSK                     David McCarthy  [0, 0]   \n",
       "659   A19Q4B515ENF9C  B0002D0096                   Richard L. Chism  [0, 0]   \n",
       "7028  A306YUQBEB2R9T  B001W99HE8                               debi  [0, 0]   \n",
       "5176  A10044ECXDUVKS  B000NJ2TIE                      Dean J Copely  [0, 0]   \n",
       "8927  A2Y2U697SS98E1  B004Z17008  John Wade Long Jr. \"LongJnSilver\"  [0, 0]   \n",
       "9733    A7IZNVL7JXLM  B007T8OGLK                Carver \"Gadget guy\"  [4, 6]   \n",
       "2076  A3QTFLU2ZWH7WS  B0002F7K7Y                              Audie  [1, 1]   \n",
       "7452   AJK15Q9JOEHRH  B002RLLD88                          aceofbase  [0, 0]   \n",
       "\n",
       "                                             reviewText  overall  \\\n",
       "3628  I love these strings because the sounds are so...        5   \n",
       "753   I used to use Elixir Nano string, and a good a...        5   \n",
       "5254  I play metal so I need a strong pick (the Jazz...        5   \n",
       "659   I bought this amp to replace a Squier SP-10 th...        5   \n",
       "7028  This microphone pics up instruments quite a bi...        5   \n",
       "5176  Surprised really. For the price I dont think I...        4   \n",
       "8927  The Snark is great. I have 2 for my 4 ukuleles...        5   \n",
       "9733  I got this from a \"direct from china\" vendor. ...        3   \n",
       "2076  I love D'Adarrio strings. Great tone and it la...        5   \n",
       "7452  Nice accessory, hold plenty of sticks, and the...        5   \n",
       "\n",
       "                                                summary  unixReviewTime  \\\n",
       "3628                                         Good tones      1317945600   \n",
       "753                                           Excellent      1399334400   \n",
       "5254               one of my fav \"Jazz III\" guitar pics      1379376000   \n",
       "659                   Awesome Effects and a Great Sound      1381449600   \n",
       "7028                       GLS Seems Better than Shure!      1358726400   \n",
       "5176                       These are actually very nice      1345161600   \n",
       "8927                                               A+++      1398297600   \n",
       "9733                              Not bad for the price      1337817600   \n",
       "2076  D'Adarrio EXL140-3D Nickel Wound Electric Guit...      1350345600   \n",
       "7452                                     Nice accessory      1404691200   \n",
       "\n",
       "       reviewTime  \n",
       "3628   10 7, 2011  \n",
       "753    05 6, 2014  \n",
       "5254  09 17, 2013  \n",
       "659   10 11, 2013  \n",
       "7028  01 21, 2013  \n",
       "5176  08 17, 2012  \n",
       "8927  04 24, 2014  \n",
       "9733  05 24, 2012  \n",
       "2076  10 16, 2012  \n",
       "7452   07 7, 2014  "
      ]
     },
     "execution_count": 10,
     "metadata": {},
     "output_type": "execute_result"
    }
   ],
   "source": [
    "tqdm.pandas()\n",
    "\n",
    "df = pd.read_json(\"data/data_raw.json\", orient='records', lines=True)\n",
    "\n",
    "# Visualizando uma amostra aleatória de 10 registros:\n",
    "df.sample(10)"
   ]
  },
  {
   "cell_type": "code",
   "execution_count": 11,
   "metadata": {},
   "outputs": [
    {
     "name": "stdout",
     "output_type": "stream",
     "text": [
      "<class 'pandas.core.frame.DataFrame'>\n",
      "RangeIndex: 10261 entries, 0 to 10260\n",
      "Data columns (total 9 columns):\n",
      " #   Column          Non-Null Count  Dtype \n",
      "---  ------          --------------  ----- \n",
      " 0   reviewerID      10261 non-null  object\n",
      " 1   asin            10261 non-null  object\n",
      " 2   reviewerName    10234 non-null  object\n",
      " 3   helpful         10261 non-null  object\n",
      " 4   reviewText      10261 non-null  object\n",
      " 5   overall         10261 non-null  int64 \n",
      " 6   summary         10261 non-null  object\n",
      " 7   unixReviewTime  10261 non-null  int64 \n",
      " 8   reviewTime      10261 non-null  object\n",
      "dtypes: int64(2), object(7)\n",
      "memory usage: 721.6+ KB\n"
     ]
    }
   ],
   "source": [
    "# Algumas informações sobre os dados:\n",
    "df.info()"
   ]
  },
  {
   "cell_type": "code",
   "execution_count": 12,
   "metadata": {},
   "outputs": [
    {
     "name": "stdout",
     "output_type": "stream",
     "text": [
      "The null values in the dataset:\n"
     ]
    },
    {
     "data": {
      "text/plain": [
       "reviewerID         0\n",
       "asin               0\n",
       "reviewerName      27\n",
       "helpful            0\n",
       "reviewText         0\n",
       "overall            0\n",
       "summary            0\n",
       "unixReviewTime     0\n",
       "reviewTime         0\n",
       "dtype: int64"
      ]
     },
     "execution_count": 12,
     "metadata": {},
     "output_type": "execute_result"
    }
   ],
   "source": [
    "# Verificando valores nulos\n",
    "print('The null values in the dataset:')\n",
    "df.isnull().sum()"
   ]
  },
  {
   "cell_type": "code",
   "execution_count": 13,
   "metadata": {},
   "outputs": [],
   "source": [
    "# A coluna 'reviewerName' contém o nome do revisor e não é relevante para análise e, portanto, pode ser removida, \n",
    "# bem como as colunas: helpful e unixReviewTime. \n",
    "df = df.drop(['reviewerName','unixReviewTime'], axis=1)"
   ]
  },
  {
   "cell_type": "code",
   "execution_count": 14,
   "metadata": {},
   "outputs": [],
   "source": [
    "# Ajustando a data: \n",
    "re_new = df[\"reviewTime\"].str.split(\",\", n = 1, expand = True) \n",
    "\n",
    "df[\"date\"] = re_new[0] \n",
    "    \n",
    "df[\"year\"] = re_new[1] \n",
    "\n",
    "re_new1 = df[\"date\"].str.split(\" \", n = 1, expand = True) \n",
    "\n",
    "df[\"month\"] = re_new1[0] \n",
    "\n",
    "df[\"day\"] = re_new1[1]\n",
    "\n",
    "df[\"date\"] = df[\"year\"] + '-' + df[\"month\"] + '-' + df[\"day\"]"
   ]
  },
  {
   "cell_type": "code",
   "execution_count": 15,
   "metadata": {},
   "outputs": [
    {
     "data": {
      "text/html": [
       "<div>\n",
       "<style scoped>\n",
       "    .dataframe tbody tr th:only-of-type {\n",
       "        vertical-align: middle;\n",
       "    }\n",
       "\n",
       "    .dataframe tbody tr th {\n",
       "        vertical-align: top;\n",
       "    }\n",
       "\n",
       "    .dataframe thead th {\n",
       "        text-align: right;\n",
       "    }\n",
       "</style>\n",
       "<table border=\"1\" class=\"dataframe\">\n",
       "  <thead>\n",
       "    <tr style=\"text-align: right;\">\n",
       "      <th></th>\n",
       "      <th>reviewerID</th>\n",
       "      <th>asin</th>\n",
       "      <th>helpful</th>\n",
       "      <th>reviewText</th>\n",
       "      <th>overall</th>\n",
       "      <th>summary</th>\n",
       "      <th>date</th>\n",
       "    </tr>\n",
       "  </thead>\n",
       "  <tbody>\n",
       "    <tr>\n",
       "      <th>0</th>\n",
       "      <td>A2IBPI20UZIR0U</td>\n",
       "      <td>1384719342</td>\n",
       "      <td>[0, 0]</td>\n",
       "      <td>Not much to write about here, but it does exac...</td>\n",
       "      <td>5</td>\n",
       "      <td>good</td>\n",
       "      <td>2014-02-28</td>\n",
       "    </tr>\n",
       "    <tr>\n",
       "      <th>1</th>\n",
       "      <td>A14VAT5EAX3D9S</td>\n",
       "      <td>1384719342</td>\n",
       "      <td>[13, 14]</td>\n",
       "      <td>The product does exactly as it should and is q...</td>\n",
       "      <td>5</td>\n",
       "      <td>Jake</td>\n",
       "      <td>2013-03-16</td>\n",
       "    </tr>\n",
       "    <tr>\n",
       "      <th>2</th>\n",
       "      <td>A195EZSQDW3E21</td>\n",
       "      <td>1384719342</td>\n",
       "      <td>[1, 1]</td>\n",
       "      <td>The primary job of this device is to block the...</td>\n",
       "      <td>5</td>\n",
       "      <td>It Does The Job Well</td>\n",
       "      <td>2013-08-28</td>\n",
       "    </tr>\n",
       "    <tr>\n",
       "      <th>3</th>\n",
       "      <td>A2C00NNG1ZQQG2</td>\n",
       "      <td>1384719342</td>\n",
       "      <td>[0, 0]</td>\n",
       "      <td>Nice windscreen protects my MXL mic and preven...</td>\n",
       "      <td>5</td>\n",
       "      <td>GOOD WINDSCREEN FOR THE MONEY</td>\n",
       "      <td>2014-02-14</td>\n",
       "    </tr>\n",
       "    <tr>\n",
       "      <th>4</th>\n",
       "      <td>A94QU4C90B1AX</td>\n",
       "      <td>1384719342</td>\n",
       "      <td>[0, 0]</td>\n",
       "      <td>This pop filter is great. It looks and perform...</td>\n",
       "      <td>5</td>\n",
       "      <td>No more pops when I record my vocals.</td>\n",
       "      <td>2014-02-21</td>\n",
       "    </tr>\n",
       "  </tbody>\n",
       "</table>\n",
       "</div>"
      ],
      "text/plain": [
       "       reviewerID        asin   helpful  \\\n",
       "0  A2IBPI20UZIR0U  1384719342    [0, 0]   \n",
       "1  A14VAT5EAX3D9S  1384719342  [13, 14]   \n",
       "2  A195EZSQDW3E21  1384719342    [1, 1]   \n",
       "3  A2C00NNG1ZQQG2  1384719342    [0, 0]   \n",
       "4   A94QU4C90B1AX  1384719342    [0, 0]   \n",
       "\n",
       "                                          reviewText  overall  \\\n",
       "0  Not much to write about here, but it does exac...        5   \n",
       "1  The product does exactly as it should and is q...        5   \n",
       "2  The primary job of this device is to block the...        5   \n",
       "3  Nice windscreen protects my MXL mic and preven...        5   \n",
       "4  This pop filter is great. It looks and perform...        5   \n",
       "\n",
       "                                 summary         date  \n",
       "0                                   good   2014-02-28  \n",
       "1                                   Jake   2013-03-16  \n",
       "2                   It Does The Job Well   2013-08-28  \n",
       "3          GOOD WINDSCREEN FOR THE MONEY   2014-02-14  \n",
       "4  No more pops when I record my vocals.   2014-02-21  "
      ]
     },
     "execution_count": 15,
     "metadata": {},
     "output_type": "execute_result"
    }
   ],
   "source": [
    "# Excluindo variáveis não relevantes para análise:\n",
    "df = df.drop(['reviewTime', 'year', 'month', 'day'], axis=1)\n",
    "df.head() "
   ]
  },
  {
   "cell_type": "code",
   "execution_count": 16,
   "metadata": {},
   "outputs": [
    {
     "data": {
      "text/plain": [
       "2013    4055\n",
       "2014    2679\n",
       "2012    1936\n",
       "2011    1007\n",
       "2010     350\n",
       "2009     128\n",
       "2008      63\n",
       "2007      22\n",
       "2006      10\n",
       "2004       7\n",
       "2005       4\n",
       "Name: date, dtype: int64"
      ]
     },
     "execution_count": 16,
     "metadata": {},
     "output_type": "execute_result"
    }
   ],
   "source": [
    "# Verificando o preenchimento dos dados para cada ano:\n",
    "df[\"date\"] = df[\"date\"].astype(\"datetime64\")\n",
    "df[\"date\"].dt.year.value_counts()"
   ]
  },
  {
   "cell_type": "code",
   "execution_count": 17,
   "metadata": {},
   "outputs": [
    {
     "data": {
      "text/plain": [
       "<AxesSubplot:xlabel='Ano', ylabel='N° Registros'>"
      ]
     },
     "execution_count": 17,
     "metadata": {},
     "output_type": "execute_result"
    },
    {
     "data": {
      "image/png": "[encoded data removed]",
      "text/plain": [
       "<Figure size 432x288 with 1 Axes>"
      ]
     },
     "metadata": {
      "needs_background": "light"
     },
     "output_type": "display_data"
    }
   ],
   "source": [
    "# Visualizando a distribuição das notas atribuídas:\n",
    "df.groupby(df[\"overall\"]).count().plot(kind=\"bar\",xlabel='Ano',ylabel=\"N° Registros\")"
   ]
  },
  {
   "cell_type": "code",
   "execution_count": 18,
   "metadata": {},
   "outputs": [
    {
     "data": {
      "text/html": [
       "<div>\n",
       "<style scoped>\n",
       "    .dataframe tbody tr th:only-of-type {\n",
       "        vertical-align: middle;\n",
       "    }\n",
       "\n",
       "    .dataframe tbody tr th {\n",
       "        vertical-align: top;\n",
       "    }\n",
       "\n",
       "    .dataframe thead th {\n",
       "        text-align: right;\n",
       "    }\n",
       "</style>\n",
       "<table border=\"1\" class=\"dataframe\">\n",
       "  <thead>\n",
       "    <tr style=\"text-align: right;\">\n",
       "      <th></th>\n",
       "      <th>reviewerID</th>\n",
       "      <th>asin</th>\n",
       "      <th>helpful</th>\n",
       "      <th>overall</th>\n",
       "      <th>date</th>\n",
       "      <th>reviews</th>\n",
       "    </tr>\n",
       "  </thead>\n",
       "  <tbody>\n",
       "    <tr>\n",
       "      <th>0</th>\n",
       "      <td>A2IBPI20UZIR0U</td>\n",
       "      <td>1384719342</td>\n",
       "      <td>[0, 0]</td>\n",
       "      <td>5</td>\n",
       "      <td>2014-02-28</td>\n",
       "      <td>Not much to write about here, but it does exac...</td>\n",
       "    </tr>\n",
       "    <tr>\n",
       "      <th>1</th>\n",
       "      <td>A14VAT5EAX3D9S</td>\n",
       "      <td>1384719342</td>\n",
       "      <td>[13, 14]</td>\n",
       "      <td>5</td>\n",
       "      <td>2013-03-16</td>\n",
       "      <td>The product does exactly as it should and is q...</td>\n",
       "    </tr>\n",
       "    <tr>\n",
       "      <th>2</th>\n",
       "      <td>A195EZSQDW3E21</td>\n",
       "      <td>1384719342</td>\n",
       "      <td>[1, 1]</td>\n",
       "      <td>5</td>\n",
       "      <td>2013-08-28</td>\n",
       "      <td>The primary job of this device is to block the...</td>\n",
       "    </tr>\n",
       "    <tr>\n",
       "      <th>3</th>\n",
       "      <td>A2C00NNG1ZQQG2</td>\n",
       "      <td>1384719342</td>\n",
       "      <td>[0, 0]</td>\n",
       "      <td>5</td>\n",
       "      <td>2014-02-14</td>\n",
       "      <td>Nice windscreen protects my MXL mic and preven...</td>\n",
       "    </tr>\n",
       "    <tr>\n",
       "      <th>4</th>\n",
       "      <td>A94QU4C90B1AX</td>\n",
       "      <td>1384719342</td>\n",
       "      <td>[0, 0]</td>\n",
       "      <td>5</td>\n",
       "      <td>2014-02-21</td>\n",
       "      <td>This pop filter is great. It looks and perform...</td>\n",
       "    </tr>\n",
       "  </tbody>\n",
       "</table>\n",
       "</div>"
      ],
      "text/plain": [
       "       reviewerID        asin   helpful  overall       date  \\\n",
       "0  A2IBPI20UZIR0U  1384719342    [0, 0]        5 2014-02-28   \n",
       "1  A14VAT5EAX3D9S  1384719342  [13, 14]        5 2013-03-16   \n",
       "2  A195EZSQDW3E21  1384719342    [1, 1]        5 2013-08-28   \n",
       "3  A2C00NNG1ZQQG2  1384719342    [0, 0]        5 2014-02-14   \n",
       "4   A94QU4C90B1AX  1384719342    [0, 0]        5 2014-02-21   \n",
       "\n",
       "                                             reviews  \n",
       "0  Not much to write about here, but it does exac...  \n",
       "1  The product does exactly as it should and is q...  \n",
       "2  The primary job of this device is to block the...  \n",
       "3  Nice windscreen protects my MXL mic and preven...  \n",
       "4  This pop filter is great. It looks and perform...  "
      ]
     },
     "execution_count": 18,
     "metadata": {},
     "output_type": "execute_result"
    }
   ],
   "source": [
    "# Combinando as colunas 'reviewText' e 'summary':\n",
    "df['reviews'] = df['reviewText'] + df['summary']\n",
    "df = df.drop(['reviewText', 'summary'], axis=1)\n",
    "df.head()"
   ]
  },
  {
   "cell_type": "code",
   "execution_count": 19,
   "metadata": {},
   "outputs": [
    {
     "data": {
      "text/html": [
       "<div>\n",
       "<style scoped>\n",
       "    .dataframe tbody tr th:only-of-type {\n",
       "        vertical-align: middle;\n",
       "    }\n",
       "\n",
       "    .dataframe tbody tr th {\n",
       "        vertical-align: top;\n",
       "    }\n",
       "\n",
       "    .dataframe thead th {\n",
       "        text-align: right;\n",
       "    }\n",
       "</style>\n",
       "<table border=\"1\" class=\"dataframe\">\n",
       "  <thead>\n",
       "    <tr style=\"text-align: right;\">\n",
       "      <th></th>\n",
       "      <th>reviewerID</th>\n",
       "      <th>asin</th>\n",
       "      <th>helpful</th>\n",
       "      <th>overall</th>\n",
       "      <th>date</th>\n",
       "      <th>reviews</th>\n",
       "      <th>sentiment</th>\n",
       "    </tr>\n",
       "  </thead>\n",
       "  <tbody>\n",
       "    <tr>\n",
       "      <th>0</th>\n",
       "      <td>A2IBPI20UZIR0U</td>\n",
       "      <td>1384719342</td>\n",
       "      <td>[0, 0]</td>\n",
       "      <td>5</td>\n",
       "      <td>2014-02-28</td>\n",
       "      <td>Not much to write about here, but it does exac...</td>\n",
       "      <td>Positive</td>\n",
       "    </tr>\n",
       "    <tr>\n",
       "      <th>1</th>\n",
       "      <td>A14VAT5EAX3D9S</td>\n",
       "      <td>1384719342</td>\n",
       "      <td>[13, 14]</td>\n",
       "      <td>5</td>\n",
       "      <td>2013-03-16</td>\n",
       "      <td>The product does exactly as it should and is q...</td>\n",
       "      <td>Positive</td>\n",
       "    </tr>\n",
       "    <tr>\n",
       "      <th>2</th>\n",
       "      <td>A195EZSQDW3E21</td>\n",
       "      <td>1384719342</td>\n",
       "      <td>[1, 1]</td>\n",
       "      <td>5</td>\n",
       "      <td>2013-08-28</td>\n",
       "      <td>The primary job of this device is to block the...</td>\n",
       "      <td>Positive</td>\n",
       "    </tr>\n",
       "    <tr>\n",
       "      <th>3</th>\n",
       "      <td>A2C00NNG1ZQQG2</td>\n",
       "      <td>1384719342</td>\n",
       "      <td>[0, 0]</td>\n",
       "      <td>5</td>\n",
       "      <td>2014-02-14</td>\n",
       "      <td>Nice windscreen protects my MXL mic and preven...</td>\n",
       "      <td>Positive</td>\n",
       "    </tr>\n",
       "    <tr>\n",
       "      <th>4</th>\n",
       "      <td>A94QU4C90B1AX</td>\n",
       "      <td>1384719342</td>\n",
       "      <td>[0, 0]</td>\n",
       "      <td>5</td>\n",
       "      <td>2014-02-21</td>\n",
       "      <td>This pop filter is great. It looks and perform...</td>\n",
       "      <td>Positive</td>\n",
       "    </tr>\n",
       "  </tbody>\n",
       "</table>\n",
       "</div>"
      ],
      "text/plain": [
       "       reviewerID        asin   helpful  overall       date  \\\n",
       "0  A2IBPI20UZIR0U  1384719342    [0, 0]        5 2014-02-28   \n",
       "1  A14VAT5EAX3D9S  1384719342  [13, 14]        5 2013-03-16   \n",
       "2  A195EZSQDW3E21  1384719342    [1, 1]        5 2013-08-28   \n",
       "3  A2C00NNG1ZQQG2  1384719342    [0, 0]        5 2014-02-14   \n",
       "4   A94QU4C90B1AX  1384719342    [0, 0]        5 2014-02-21   \n",
       "\n",
       "                                             reviews sentiment  \n",
       "0  Not much to write about here, but it does exac...  Positive  \n",
       "1  The product does exactly as it should and is q...  Positive  \n",
       "2  The primary job of this device is to block the...  Positive  \n",
       "3  Nice windscreen protects my MXL mic and preven...  Positive  \n",
       "4  This pop filter is great. It looks and perform...  Positive  "
      ]
     },
     "execution_count": 19,
     "metadata": {},
     "output_type": "execute_result"
    }
   ],
   "source": [
    "# Classificando as notas por sentimento:\n",
    "\n",
    "# Se a pontuação for maior que 3, o sentimento é Positivo\n",
    "# Se o valor for menor do que 3, o sentimento é Negativo\n",
    "# Se for igual a 3, o sentimento é Neutro.\n",
    "\n",
    "def sent(rating):\n",
    "    if rating['overall'] == 3:\n",
    "        value = 'Neutral'\n",
    "    elif rating['overall'] > 3:\n",
    "        value = 'Positive'\n",
    "    else:\n",
    "        value = 'Negative'\n",
    "    return value\n",
    "\n",
    "#Applying the function in our new column\n",
    "df['sentiment'] = df.apply(sent, axis=1)\n",
    "df.head()"
   ]
  },
  {
   "cell_type": "code",
   "execution_count": 20,
   "metadata": {},
   "outputs": [
    {
     "name": "stdout",
     "output_type": "stream",
     "text": [
      "The count of sentiments:\n"
     ]
    },
    {
     "data": {
      "text/plain": [
       "Positive    9022\n",
       "Neutral      772\n",
       "Negative     467\n",
       "Name: sentiment, dtype: int64"
      ]
     },
     "execution_count": 20,
     "metadata": {},
     "output_type": "execute_result"
    }
   ],
   "source": [
    "print('The count of sentiments:')\n",
    "df['sentiment'].value_counts()"
   ]
  },
  {
   "cell_type": "code",
   "execution_count": 21,
   "metadata": {},
   "outputs": [
    {
     "data": {
      "text/plain": [
       "date  sentiment\n",
       "2004  Positive        7\n",
       "2005  Positive        4\n",
       "2006  Negative        1\n",
       "      Neutral         1\n",
       "      Positive        8\n",
       "2007  Negative        1\n",
       "      Positive       21\n",
       "2008  Negative        2\n",
       "      Neutral         7\n",
       "      Positive       54\n",
       "2009  Negative        5\n",
       "      Neutral         8\n",
       "      Positive      115\n",
       "2010  Negative       16\n",
       "      Neutral        20\n",
       "      Positive      314\n",
       "2011  Negative       46\n",
       "      Neutral        84\n",
       "      Positive      877\n",
       "2012  Negative       85\n",
       "      Neutral       130\n",
       "      Positive     1721\n",
       "2013  Negative      170\n",
       "      Neutral       319\n",
       "      Positive     3566\n",
       "2014  Negative      141\n",
       "      Neutral       203\n",
       "      Positive     2335\n",
       "dtype: int64"
      ]
     },
     "execution_count": 21,
     "metadata": {},
     "output_type": "execute_result"
    }
   ],
   "source": [
    "df.groupby([df[\"date\"].dt.year,df[\"sentiment\"]]).size()"
   ]
  },
  {
   "cell_type": "code",
   "execution_count": 22,
   "metadata": {},
   "outputs": [
    {
     "data": {
      "text/html": [
       "<div>\n",
       "<style scoped>\n",
       "    .dataframe tbody tr th:only-of-type {\n",
       "        vertical-align: middle;\n",
       "    }\n",
       "\n",
       "    .dataframe tbody tr th {\n",
       "        vertical-align: top;\n",
       "    }\n",
       "\n",
       "    .dataframe thead th {\n",
       "        text-align: right;\n",
       "    }\n",
       "</style>\n",
       "<table border=\"1\" class=\"dataframe\">\n",
       "  <thead>\n",
       "    <tr style=\"text-align: right;\">\n",
       "      <th></th>\n",
       "      <th>reviewerID</th>\n",
       "      <th>asin</th>\n",
       "      <th>helpful</th>\n",
       "      <th>overall</th>\n",
       "      <th>date</th>\n",
       "      <th>reviews</th>\n",
       "      <th>sentiment</th>\n",
       "      <th>helpful_review</th>\n",
       "    </tr>\n",
       "  </thead>\n",
       "  <tbody>\n",
       "    <tr>\n",
       "      <th>0</th>\n",
       "      <td>A2IBPI20UZIR0U</td>\n",
       "      <td>1384719342</td>\n",
       "      <td>[0, 0]</td>\n",
       "      <td>5</td>\n",
       "      <td>2014-02-28</td>\n",
       "      <td>Not much to write about here, but it does exac...</td>\n",
       "      <td>Positive</td>\n",
       "      <td>0.00</td>\n",
       "    </tr>\n",
       "    <tr>\n",
       "      <th>1</th>\n",
       "      <td>A14VAT5EAX3D9S</td>\n",
       "      <td>1384719342</td>\n",
       "      <td>[13, 14]</td>\n",
       "      <td>5</td>\n",
       "      <td>2013-03-16</td>\n",
       "      <td>The product does exactly as it should and is q...</td>\n",
       "      <td>Positive</td>\n",
       "      <td>0.93</td>\n",
       "    </tr>\n",
       "    <tr>\n",
       "      <th>2</th>\n",
       "      <td>A195EZSQDW3E21</td>\n",
       "      <td>1384719342</td>\n",
       "      <td>[1, 1]</td>\n",
       "      <td>5</td>\n",
       "      <td>2013-08-28</td>\n",
       "      <td>The primary job of this device is to block the...</td>\n",
       "      <td>Positive</td>\n",
       "      <td>1.00</td>\n",
       "    </tr>\n",
       "    <tr>\n",
       "      <th>3</th>\n",
       "      <td>A2C00NNG1ZQQG2</td>\n",
       "      <td>1384719342</td>\n",
       "      <td>[0, 0]</td>\n",
       "      <td>5</td>\n",
       "      <td>2014-02-14</td>\n",
       "      <td>Nice windscreen protects my MXL mic and preven...</td>\n",
       "      <td>Positive</td>\n",
       "      <td>0.00</td>\n",
       "    </tr>\n",
       "    <tr>\n",
       "      <th>4</th>\n",
       "      <td>A94QU4C90B1AX</td>\n",
       "      <td>1384719342</td>\n",
       "      <td>[0, 0]</td>\n",
       "      <td>5</td>\n",
       "      <td>2014-02-21</td>\n",
       "      <td>This pop filter is great. It looks and perform...</td>\n",
       "      <td>Positive</td>\n",
       "      <td>0.00</td>\n",
       "    </tr>\n",
       "  </tbody>\n",
       "</table>\n",
       "</div>"
      ],
      "text/plain": [
       "       reviewerID        asin   helpful  overall       date  \\\n",
       "0  A2IBPI20UZIR0U  1384719342    [0, 0]        5 2014-02-28   \n",
       "1  A14VAT5EAX3D9S  1384719342  [13, 14]        5 2013-03-16   \n",
       "2  A195EZSQDW3E21  1384719342    [1, 1]        5 2013-08-28   \n",
       "3  A2C00NNG1ZQQG2  1384719342    [0, 0]        5 2014-02-14   \n",
       "4   A94QU4C90B1AX  1384719342    [0, 0]        5 2014-02-21   \n",
       "\n",
       "                                             reviews sentiment  helpful_review  \n",
       "0  Not much to write about here, but it does exac...  Positive            0.00  \n",
       "1  The product does exactly as it should and is q...  Positive            0.93  \n",
       "2  The primary job of this device is to block the...  Positive            1.00  \n",
       "3  Nice windscreen protects my MXL mic and preven...  Positive            0.00  \n",
       "4  This pop filter is great. It looks and perform...  Positive            0.00  "
      ]
     },
     "execution_count": 22,
     "metadata": {},
     "output_type": "execute_result"
    }
   ],
   "source": [
    "# Tornando a coluna 'helpful' mais informativa:\n",
    "\n",
    "df[\"helpful\"] = df[\"helpful\"].astype(str)\n",
    "\n",
    "newreview = df[\"helpful\"].str.split(\",\", n = 1, expand = True)\n",
    "\n",
    "newreview1 = newreview[0].str.split(\"[\", n = 1, expand = True)\n",
    "newreview2 = newreview[1].str.split(\"]\", n = 1, expand = True)\n",
    "\n",
    "#Resetting the index\n",
    "newreview1.reset_index(drop=True, inplace=True)\n",
    "newreview2.reset_index(drop=True, inplace=True)\n",
    "\n",
    "#Dropping empty columns due to splitting \n",
    "newreview1 = newreview1.drop([0], axis=1)\n",
    "newreview2 = newreview2.drop([1], axis=1)\n",
    "\n",
    "#Concatenating the splitted columns\n",
    "helpfulreview = pd.concat([newreview1, newreview2], axis=1)\n",
    "helpfulreview\n",
    "# df.head()\n",
    "\n",
    "#Converting into integer types\n",
    "helpfulreview[0] = helpfulreview[0].astype(str).astype(int)\n",
    "helpfulreview[1] = helpfulreview[1].astype(str).astype(int)\n",
    "\n",
    "#Dividing the two columns, we have 0 in the second columns when dvided gives error, so I'm ignoring those errors\n",
    "try:\n",
    "  helpfulreview['result'] = helpfulreview[1]/helpfulreview[0]\n",
    "except ZeroDivisionError:\n",
    "  helpfulreview['result']=0\n",
    "\n",
    "#Filling the NaN values(created due to dividing) with 0\n",
    "helpfulreview['result'] = helpfulreview['result'].fillna(0)\n",
    "\n",
    "#Rounding of the results to two decimal places\n",
    "helpfulreview['result'] = helpfulreview['result'].round(2) \n",
    "\n",
    "#Attaching the results to a new column of the main dataframe\n",
    "df['helpful_review'] = helpfulreview['result']\n",
    "\n",
    "df.head()"
   ]
  },
  {
   "cell_type": "code",
   "execution_count": 158,
   "metadata": {},
   "outputs": [],
   "source": [
    "# Exportando...\n",
    "df.to_json('data/dataset.json', orient='records', lines=True)"
   ]
  },
  {
   "cell_type": "markdown",
   "metadata": {},
   "source": [
    "# [Análise de Texto com Elasticsearch](#analyzer)"
   ]
  },
  {
   "cell_type": "code",
   "execution_count": 181,
   "metadata": {},
   "outputs": [
    {
     "name": "stderr",
     "output_type": "stream",
     "text": [
      "C:\\Users\\winicius.faquieri\\Anaconda3\\lib\\site-packages\\elasticsearch\\_sync\\client\\__init__.py:395: SecurityWarning: Connecting to 'https://localhost:9200' using TLS with verify_certs=False is insecure\n",
      "  _transport = transport_class(\n"
     ]
    },
    {
     "data": {
      "text/plain": [
       "<Elasticsearch(['https://localhost:9200'])>"
      ]
     },
     "execution_count": 181,
     "metadata": {},
     "output_type": "execute_result"
    }
   ],
   "source": [
    "# Pipeline de pré-processamento: analyzer\n",
    "\n",
    "# !pip install elasticsearch \n",
    "\n",
    "ES_URL = 'https://localhost:9200'\n",
    "ES_USER = 'elastic'\n",
    "ES_PASS = 'elastic123'\n",
    "\n",
    "client = Elasticsearch(\n",
    "    ES_URL,\n",
    "    basic_auth=(ES_USER, ES_PASS),\n",
    "    verify_certs=False\n",
    ")\n",
    "\n",
    "client"
   ]
  },
  {
   "cell_type": "code",
   "execution_count": 182,
   "metadata": {},
   "outputs": [
    {
     "data": {
      "text/plain": [
       "{'name': 'E012366',\n",
       " 'cluster_name': 'elasticsearch',\n",
       " 'cluster_uuid': 'Sy1H2ZYYQla4vTUqp3-s6A',\n",
       " 'version': {'number': '8.2.2',\n",
       "  'build_flavor': 'default',\n",
       "  'build_type': 'zip',\n",
       "  'build_hash': '9876968ef3c745186b94fdabd4483e01499224ef',\n",
       "  'build_date': '2022-05-25T15:47:06.259735307Z',\n",
       "  'build_snapshot': False,\n",
       "  'lucene_version': '9.1.0',\n",
       "  'minimum_wire_compatibility_version': '7.17.0',\n",
       "  'minimum_index_compatibility_version': '7.0.0'},\n",
       " 'tagline': 'You Know, for Search'}"
      ]
     },
     "execution_count": 182,
     "metadata": {},
     "output_type": "execute_result"
    }
   ],
   "source": [
    "# Desligando warning para facilitar nossa vida\n",
    "urllib3.disable_warnings()\n",
    "\n",
    "dict(client.info())"
   ]
  },
  {
   "cell_type": "markdown",
   "metadata": {},
   "source": [
    "#### Customizando uma lista de stopwords para adicionar ao analyzer \n",
    "\n",
    "Optamos por não utilizar a biblioteca NLTK, pois algumas palavras consideradas stopwords (ex: no) poderiam ser importantes na análise"
   ]
  },
  {
   "cell_type": "code",
   "execution_count": 183,
   "metadata": {},
   "outputs": [],
   "source": [
    "\n",
    "\n",
    "en_stops = ['yourselves', 'between', 'whom', 'itself', 'is', \"she's\", 'up', 'herself', 'here', 'your', 'each', \n",
    "             'we', 'he', 'my', \"you've\", 'having', 'in', 'both', 'for', 'themselves', 'are', 'them', 'other',\n",
    "             'and', 'an', 'during', 'their', 'can', 'yourself', 'she', 'until', 'so', 'these', 'ours', 'above', \n",
    "             'what', 'while', 'have', 're', 'more', 'only', \"needn't\", 'when', 'just', 'that', 'were', \"don't\", \n",
    "             'very', 'should', 'any', 'y', 'isn', 'who',  'a', 'they', 'to', 'too', \"should've\", 'has', 'before',\n",
    "             'into', 'yours', \"it's\", 'do', 'against', 'on',  'now', 'her', 've', 'd', 'by', 'am', 'from', \n",
    "             'about', 'further', \"that'll\", \"you'd\", 'you', 'as', 'how', 'been', 'the', 'or', 'doing', 'such',\n",
    "             'his', 'himself', 'ourselves',  'was', 'through', 'out', 'below', 'own', 'myself', 'theirs', \n",
    "             'me', 'why', 'once',  'him', 'than', 'be', 'most', \"you'll\", 'same', 'some', 'with', 'few', 'it',\n",
    "             'at', 'after', 'its', 'which', 'there','our', 'this', 'hers', 'being', 'did', 'of', 'had', 'under',\n",
    "             'over','again', 'where', 'those', 'then', \"you're\", 'i', 'because', 'does', 'all']"
   ]
  },
  {
   "cell_type": "markdown",
   "metadata": {},
   "source": [
    "[Mapping e Configurações de Índice](#mapping)\n",
    "\n",
    "Para armazenar dados (ou documentos) no Elasticsearch, é necessário fazer isso através de um index. Um index no Elasticsearch é um local para armazenar e organizar documentos relacionados. É comparável a um banco de dados contendo várias tabelas."
   ]
  },
  {
   "cell_type": "code",
   "execution_count": 223,
   "metadata": {},
   "outputs": [],
   "source": [
    "# Criando um analyzer customizado (rm caracteres especiais, transforma o token para minusculo e elimina \"'\" de expresões como \"d'agua\"):\n",
    "# Pré-processamento de textos com index mapping:\n",
    "\n",
    "INDEX_NAME = 'index_reviews_amazon'\n",
    "\n",
    "INDEX_MAPPING = {\n",
    "    \"settings\": {\n",
    "        \"number_of_shards\": 3,\n",
    "        \"analysis\": {\n",
    "            \"analyzer\": {\n",
    "                \"meu_analisador\": {\n",
    "                    \"type\": \"custom\",\n",
    "                    \"tokenizer\": \"standard\",\n",
    "                    \"filter\": [\"asciifolding\",\"lowercase\",\"elision\",\"stopsss\",\"stop_custom\"]\n",
    "                }\n",
    "            },\n",
    "            \"filter\": {\n",
    "                \"stopsss\": {\n",
    "                    \"type\": \"stop\",\n",
    "                    \"stopwords\": \"_english_\",\n",
    "                },\n",
    "                \"stop_custom\": {\n",
    "                    \"type\": \"stop\",\n",
    "                    \"stopwords\": en_stops,\n",
    "                },\n",
    "            }\n",
    "        }\n",
    "    },\n",
    "\"mappings\": {\n",
    "        \"properties\": {\n",
    "            \"sentiment\": {\n",
    "                \"type\": \"text\",\n",
    "                \"fields\": {\n",
    "                    \"raw\": {\n",
    "                        \"type\": \"keyword\"\n",
    "                    }\n",
    "                }\n",
    "            },\n",
    "            \"reviews\": {\n",
    "                \"type\": \"text\",\n",
    "                \"analyzer\": \"meu_analisador\",\n",
    "                \"fielddata\": True,\n",
    "                \"fielddata_frequency_filter\": {\n",
    "                    # Deve aparecer em pelo menos em 1% dos documentos\n",
    "                    \"min\": 0.01,\n",
    "                    # Definindo um limite inferior para o nº ocorrencias\n",
    "                    \"min_segment_size\": 10,\n",
    "                 }\n",
    "            }\n",
    "        }\n",
    "    }\n",
    "}"
   ]
  },
  {
   "cell_type": "code",
   "execution_count": 224,
   "metadata": {},
   "outputs": [],
   "source": [
    "# Bulk insert\n",
    "def gen_documents(filename):\n",
    "    with open('data/dataset.json','r') as fin:\n",
    "        for line in fin:\n",
    "            yield json.loads(line)"
   ]
  },
  {
   "cell_type": "markdown",
   "metadata": {},
   "source": [
    "Definindo uma função geradora para transformar um iterável de documentos em um iterável de ações bulk:"
   ]
  },
  {
   "cell_type": "code",
   "execution_count": 225,
   "metadata": {},
   "outputs": [],
   "source": [
    "def gen_index_actions(documents):\n",
    "    for doc in documents:\n",
    "        yield {\n",
    "            '_op_type': 'index',\n",
    "            '_index': INDEX_NAME,\n",
    "            '_source': doc\n",
    "        }"
   ]
  },
  {
   "cell_type": "code",
   "execution_count": 226,
   "metadata": {},
   "outputs": [
    {
     "data": {
      "text/plain": [
       "ObjectApiResponse({'acknowledged': True, 'shards_acknowledged': True, 'index': 'index_reviews_amazon'})"
      ]
     },
     "execution_count": 226,
     "metadata": {},
     "output_type": "execute_result"
    }
   ],
   "source": [
    "# Apagar caso o indice exista\n",
    "if client.indices.exists(index=INDEX_NAME):\n",
    "    client.indices.delete(index=INDEX_NAME)\n",
    "client.indices.create(index=INDEX_NAME, **INDEX_MAPPING)"
   ]
  },
  {
   "cell_type": "code",
   "execution_count": 227,
   "metadata": {},
   "outputs": [
    {
     "name": "stdout",
     "output_type": "stream",
     "text": [
      "['got', 'needed', 'found', 'really', 'need', 'often', 'rarely', 'use', 'really', 'good', 'see', 'need', 'keyboard', 'organ.it', 'works', 'great', 'hardly', 'use']\n"
     ]
    }
   ],
   "source": [
    "# Testando o analyzer:\n",
    "analyzed = client.indices.analyze(\n",
    "    index= INDEX_NAME,\n",
    "    analyzer=\"meu_analisador\",\n",
    "    text= \"I got it to have it if I needed it. I have found that i don't really need it that often and rarely use it. If I was really good I can see the need. But this is a keyboard not an organ.It works great but I hardly use it.\",\n",
    ")\n",
    "\n",
    "print([x[\"token\"] for x in analyzed['tokens']])"
   ]
  },
  {
   "cell_type": "code",
   "execution_count": 228,
   "metadata": {},
   "outputs": [
    {
     "name": "stdout",
     "output_type": "stream",
     "text": [
      "Wall time: 14.1 s\n"
     ]
    },
    {
     "data": {
      "text/plain": [
       "ObjectApiResponse({'_shards': {'total': 6, 'successful': 3, 'failed': 0}})"
      ]
     },
     "execution_count": 228,
     "metadata": {},
     "output_type": "execute_result"
    }
   ],
   "source": [
    "%%time\n",
    "documents = gen_documents('data/dataset.json')\n",
    "actions = gen_index_actions(documents)\n",
    "\n",
    "success, errors = bulk(client, actions)\n",
    "\n",
    "client.indices.refresh(index=INDEX_NAME)\n",
    "client.indices.flush(index=INDEX_NAME)"
   ]
  },
  {
   "cell_type": "markdown",
   "metadata": {},
   "source": [
    "Query com Agregação - Realiza operações sobre um conjunto de documentos. Comparável ao GROUP BY do SQL."
   ]
  },
  {
   "cell_type": "code",
   "execution_count": 194,
   "metadata": {},
   "outputs": [],
   "source": [
    "\n",
    "QUERY = {\n",
    "    'match_all': {}\n",
    "}\n",
    "\n",
    "AGG = {\n",
    "    'grupos': {\n",
    "        'terms': {\n",
    "            'field': 'sentiment.raw',\n",
    "            'size': 3,\n",
    "        }\n",
    "    }\n",
    "}"
   ]
  },
  {
   "cell_type": "code",
   "execution_count": 147,
   "metadata": {},
   "outputs": [
    {
     "data": {
      "text/plain": [
       "ObjectApiResponse({'took': 3, 'timed_out': False, '_shards': {'total': 3, 'successful': 3, 'skipped': 0, 'failed': 0}, 'hits': {'total': {'value': 10000, 'relation': 'gte'}, 'max_score': None, 'hits': []}, 'aggregations': {'grupos': {'doc_count_error_upper_bound': 0, 'sum_other_doc_count': 0, 'buckets': [{'key': 'Positive', 'doc_count': 9022}, {'key': 'Neutral', 'doc_count': 772}, {'key': 'Negative', 'doc_count': 467}]}}})"
      ]
     },
     "execution_count": 147,
     "metadata": {},
     "output_type": "execute_result"
    }
   ],
   "source": [
    "# Realizando uma busca:\n",
    "resp = client.search(index=INDEX_NAME, query=QUERY, aggregations=AGG, size=0)\n",
    "resp"
   ]
  },
  {
   "cell_type": "code",
   "execution_count": 148,
   "metadata": {},
   "outputs": [
    {
     "data": {
      "text/plain": [
       "{'total': {'value': 10000, 'relation': 'gte'}, 'max_score': None, 'hits': []}"
      ]
     },
     "execution_count": 148,
     "metadata": {},
     "output_type": "execute_result"
    }
   ],
   "source": [
    "resp['hits']"
   ]
  },
  {
   "cell_type": "code",
   "execution_count": 151,
   "metadata": {},
   "outputs": [
    {
     "data": {
      "text/plain": [
       "{'grupos': {'doc_count_error_upper_bound': 0,\n",
       "  'sum_other_doc_count': 0,\n",
       "  'buckets': [{'key': 'Positive', 'doc_count': 9022},\n",
       "   {'key': 'Neutral', 'doc_count': 772},\n",
       "   {'key': 'Negative', 'doc_count': 467}]}}"
      ]
     },
     "execution_count": 151,
     "metadata": {},
     "output_type": "execute_result"
    }
   ],
   "source": [
    "resp['aggregations']"
   ]
  },
  {
   "cell_type": "code",
   "execution_count": 150,
   "metadata": {},
   "outputs": [
    {
     "data": {
      "text/html": [
       "<div>\n",
       "<style scoped>\n",
       "    .dataframe tbody tr th:only-of-type {\n",
       "        vertical-align: middle;\n",
       "    }\n",
       "\n",
       "    .dataframe tbody tr th {\n",
       "        vertical-align: top;\n",
       "    }\n",
       "\n",
       "    .dataframe thead th {\n",
       "        text-align: right;\n",
       "    }\n",
       "</style>\n",
       "<table border=\"1\" class=\"dataframe\">\n",
       "  <thead>\n",
       "    <tr style=\"text-align: right;\">\n",
       "      <th></th>\n",
       "      <th>key</th>\n",
       "      <th>doc_count</th>\n",
       "    </tr>\n",
       "  </thead>\n",
       "  <tbody>\n",
       "    <tr>\n",
       "      <th>0</th>\n",
       "      <td>Positive</td>\n",
       "      <td>9022</td>\n",
       "    </tr>\n",
       "    <tr>\n",
       "      <th>1</th>\n",
       "      <td>Neutral</td>\n",
       "      <td>772</td>\n",
       "    </tr>\n",
       "    <tr>\n",
       "      <th>2</th>\n",
       "      <td>Negative</td>\n",
       "      <td>467</td>\n",
       "    </tr>\n",
       "  </tbody>\n",
       "</table>\n",
       "</div>"
      ],
      "text/plain": [
       "        key  doc_count\n",
       "0  Positive       9022\n",
       "1   Neutral        772\n",
       "2  Negative        467"
      ]
     },
     "execution_count": 150,
     "metadata": {},
     "output_type": "execute_result"
    }
   ],
   "source": [
    "df_sentiment_agg = pd.DataFrame(resp['aggregations']['grupos']['buckets'])\n",
    "df_sentiment_agg"
   ]
  },
  {
   "cell_type": "code",
   "execution_count": 154,
   "metadata": {},
   "outputs": [
    {
     "data": {
      "text/plain": [
       "<AxesSubplot:title={'center':'Distribuição de freqüência: Sentimentos'}, xlabel='key'>"
      ]
     },
     "execution_count": 154,
     "metadata": {},
     "output_type": "execute_result"
    },
    {
     "data": {
      "image/png": "[encoded data removed]",
      "text/plain": [
       "<Figure size 432x288 with 1 Axes>"
      ]
     },
     "metadata": {
      "needs_background": "light"
     },
     "output_type": "display_data"
    }
   ],
   "source": [
    "df_sentiment_agg.plot(title = 'Distribuição de freqüência: Sentimentos', x='key', kind='bar')"
   ]
  },
  {
   "cell_type": "markdown",
   "metadata": {},
   "source": [
    "#### Wordcloud para o sentimento 'Positive'. \n",
    "Palavras como great, good, like, nice, well, quality, best, etc parece definir bem o sentimento positivo dos clientes:"
   ]
  },
  {
   "cell_type": "code",
   "execution_count": 201,
   "metadata": {},
   "outputs": [
    {
     "data": {
      "text/plain": [
       "<matplotlib.image.AxesImage at 0x1fecf3c4490>"
      ]
     },
     "execution_count": 201,
     "metadata": {},
     "output_type": "execute_result"
    },
    {
     "data": {
      "image/png": "[encoded data removed]",
      "text/plain": [
       "<Figure size 1152x432 with 1 Axes>"
      ]
     },
     "metadata": {
      "needs_background": "light"
     },
     "output_type": "display_data"
    }
   ],
   "source": [
    "QUERY = {\n",
    "    'term': {\n",
    "        'sentiment.raw': 'Positive'\n",
    "    }\n",
    "}\n",
    "\n",
    "AGG = {\n",
    "    'corpo_textual': {\n",
    "        'terms': {\n",
    "            'field': 'reviews',\n",
    "            'size': 2000,\n",
    "        }\n",
    "    }\n",
    "}\n",
    "\n",
    "\n",
    "resp = client.search(index=INDEX_NAME, query=QUERY, aggregations=AGG, size=2)\n",
    "\n",
    "\n",
    "# Frequência dos tokens mais relevantes para o sentimento positivo:\n",
    "frequencies = {}\n",
    "\n",
    "buckets = resp['aggregations']['corpo_textual']['buckets']\n",
    "\n",
    "for bucket in buckets:\n",
    "    frequencies[bucket['key']] = bucket['doc_count']\n",
    "\n",
    "frequencies\n",
    "\n",
    "cloud = WordCloud(background_color='white')\n",
    "cloud.generate_from_frequencies(frequencies)\n",
    "\n",
    "fig, ax = plt.subplots(figsize=(16, 6))\n",
    "ax.imshow(cloud)"
   ]
  },
  {
   "cell_type": "markdown",
   "metadata": {},
   "source": [
    "# [Imitando k-NN com a query More Like This](#MLT)"
   ]
  },
  {
   "cell_type": "code",
   "execution_count": null,
   "metadata": {},
   "outputs": [],
   "source": [
    "# document\n",
    "doc = client.search(index=INDEX_NAME, q='great', size=150)\n",
    "\n",
    "doc = doc['hits']['hits'][-1]"
   ]
  },
  {
   "cell_type": "code",
   "execution_count": 234,
   "metadata": {},
   "outputs": [
    {
     "name": "stdout",
     "output_type": "stream",
     "text": [
      "Positive\n"
     ]
    }
   ],
   "source": [
    "print(doc['_source']['sentiment'])\n"
   ]
  },
  {
   "cell_type": "code",
   "execution_count": 238,
   "metadata": {},
   "outputs": [
    {
     "data": {
      "text/html": [
       "<div>\n",
       "<style scoped>\n",
       "    .dataframe tbody tr th:only-of-type {\n",
       "        vertical-align: middle;\n",
       "    }\n",
       "\n",
       "    .dataframe tbody tr th {\n",
       "        vertical-align: top;\n",
       "    }\n",
       "\n",
       "    .dataframe thead th {\n",
       "        text-align: right;\n",
       "    }\n",
       "</style>\n",
       "<table border=\"1\" class=\"dataframe\">\n",
       "  <thead>\n",
       "    <tr style=\"text-align: right;\">\n",
       "      <th></th>\n",
       "      <th>_id</th>\n",
       "      <th>_score</th>\n",
       "      <th>reviewerID</th>\n",
       "      <th>asin</th>\n",
       "      <th>helpful</th>\n",
       "      <th>overall</th>\n",
       "      <th>date</th>\n",
       "      <th>reviews</th>\n",
       "      <th>sentiment</th>\n",
       "      <th>helpful_review</th>\n",
       "    </tr>\n",
       "  </thead>\n",
       "  <tbody>\n",
       "    <tr>\n",
       "      <th>0</th>\n",
       "      <td>9BCSrIEB5LSonSuU1xl6</td>\n",
       "      <td>14.878317</td>\n",
       "      <td>A3KZEGBTPH6MMF</td>\n",
       "      <td>B00IZCSW3M</td>\n",
       "      <td>[0, 0]</td>\n",
       "      <td>5</td>\n",
       "      <td>1402704000000</td>\n",
       "      <td>My father is a full-time gigging musician prim...</td>\n",
       "      <td>Positive</td>\n",
       "      <td>0.00</td>\n",
       "    </tr>\n",
       "    <tr>\n",
       "      <th>1</th>\n",
       "      <td>BA-SrIEB5LSonSuUrvkU</td>\n",
       "      <td>13.420241</td>\n",
       "      <td>ABC68JUCPTVOE</td>\n",
       "      <td>B0002E3CHC</td>\n",
       "      <td>[0, 0]</td>\n",
       "      <td>5</td>\n",
       "      <td>1365033600000</td>\n",
       "      <td>I'm impressed with these EXP16 guitar strings....</td>\n",
       "      <td>Positive</td>\n",
       "      <td>0.00</td>\n",
       "    </tr>\n",
       "    <tr>\n",
       "      <th>2</th>\n",
       "      <td>4hCSrIEB5LSonSuU1xl6</td>\n",
       "      <td>12.940178</td>\n",
       "      <td>A29B4PAIOL7HYG</td>\n",
       "      <td>B00HFRXACG</td>\n",
       "      <td>[1, 1]</td>\n",
       "      <td>5</td>\n",
       "      <td>1402444800000</td>\n",
       "      <td>I have to admit this up front - I'm a terrible...</td>\n",
       "      <td>Positive</td>\n",
       "      <td>1.00</td>\n",
       "    </tr>\n",
       "    <tr>\n",
       "      <th>3</th>\n",
       "      <td>BQ-SrIEB5LSonSuUrvkU</td>\n",
       "      <td>12.078281</td>\n",
       "      <td>A22Z554ZQ8NFPC</td>\n",
       "      <td>B0002E3CHC</td>\n",
       "      <td>[2, 2]</td>\n",
       "      <td>5</td>\n",
       "      <td>1299024000000</td>\n",
       "      <td>I've used D'Addario strings for many, many yea...</td>\n",
       "      <td>Positive</td>\n",
       "      <td>1.00</td>\n",
       "    </tr>\n",
       "    <tr>\n",
       "      <th>4</th>\n",
       "      <td>TBCSrIEB5LSonSuUxQVC</td>\n",
       "      <td>11.745450</td>\n",
       "      <td>A24Z0TLWP8FXGV</td>\n",
       "      <td>B000KIRT74</td>\n",
       "      <td>[0, 0]</td>\n",
       "      <td>5</td>\n",
       "      <td>1395619200000</td>\n",
       "      <td>I love this pedal. It gives just the right amo...</td>\n",
       "      <td>Positive</td>\n",
       "      <td>0.00</td>\n",
       "    </tr>\n",
       "    <tr>\n",
       "      <th>5</th>\n",
       "      <td>CBCSrIEB5LSonSuU1xp6</td>\n",
       "      <td>11.617835</td>\n",
       "      <td>A1SD1C8XK3Z3V1</td>\n",
       "      <td>B00JBIVXGC</td>\n",
       "      <td>[0, 0]</td>\n",
       "      <td>5</td>\n",
       "      <td>1404086400000</td>\n",
       "      <td>I've used Elixirs for about five years now. Th...</td>\n",
       "      <td>Positive</td>\n",
       "      <td>0.00</td>\n",
       "    </tr>\n",
       "    <tr>\n",
       "      <th>6</th>\n",
       "      <td>8Q-SrIEB5LSonSuUsfz_</td>\n",
       "      <td>11.429770</td>\n",
       "      <td>A9P4Q7KX35RS2</td>\n",
       "      <td>B0002H04NE</td>\n",
       "      <td>[0, 0]</td>\n",
       "      <td>5</td>\n",
       "      <td>1390694400000</td>\n",
       "      <td>I usually use the Pro Steels (by D'Addario)  b...</td>\n",
       "      <td>Positive</td>\n",
       "      <td>0.00</td>\n",
       "    </tr>\n",
       "    <tr>\n",
       "      <th>7</th>\n",
       "      <td>AQ-SrIEB5LSonSuUsf3_</td>\n",
       "      <td>11.403111</td>\n",
       "      <td>A398X9POBHK69N</td>\n",
       "      <td>B0002H0A3S</td>\n",
       "      <td>[0, 0]</td>\n",
       "      <td>5</td>\n",
       "      <td>1383177600000</td>\n",
       "      <td>These were the same strings originally strung ...</td>\n",
       "      <td>Positive</td>\n",
       "      <td>0.00</td>\n",
       "    </tr>\n",
       "    <tr>\n",
       "      <th>8</th>\n",
       "      <td>Cw-SrIEB5LSonSuUrvkU</td>\n",
       "      <td>11.313062</td>\n",
       "      <td>A1LHMSY3Q46PJS</td>\n",
       "      <td>B0002E3CHC</td>\n",
       "      <td>[5, 6]</td>\n",
       "      <td>5</td>\n",
       "      <td>1197158400000</td>\n",
       "      <td>I've been using these strings for about eight ...</td>\n",
       "      <td>Positive</td>\n",
       "      <td>0.83</td>\n",
       "    </tr>\n",
       "    <tr>\n",
       "      <th>9</th>\n",
       "      <td>TQ-SrIEB5LSonSuUsf3_</td>\n",
       "      <td>11.042872</td>\n",
       "      <td>A2SKZZZBV1XYWP</td>\n",
       "      <td>B0002H0A3S</td>\n",
       "      <td>[8, 10]</td>\n",
       "      <td>5</td>\n",
       "      <td>1268524800000</td>\n",
       "      <td>Not much to say here. Strings are a very perso...</td>\n",
       "      <td>Positive</td>\n",
       "      <td>0.80</td>\n",
       "    </tr>\n",
       "  </tbody>\n",
       "</table>\n",
       "</div>"
      ],
      "text/plain": [
       "                    _id     _score      reviewerID        asin  helpful  \\\n",
       "0  9BCSrIEB5LSonSuU1xl6  14.878317  A3KZEGBTPH6MMF  B00IZCSW3M   [0, 0]   \n",
       "1  BA-SrIEB5LSonSuUrvkU  13.420241   ABC68JUCPTVOE  B0002E3CHC   [0, 0]   \n",
       "2  4hCSrIEB5LSonSuU1xl6  12.940178  A29B4PAIOL7HYG  B00HFRXACG   [1, 1]   \n",
       "3  BQ-SrIEB5LSonSuUrvkU  12.078281  A22Z554ZQ8NFPC  B0002E3CHC   [2, 2]   \n",
       "4  TBCSrIEB5LSonSuUxQVC  11.745450  A24Z0TLWP8FXGV  B000KIRT74   [0, 0]   \n",
       "5  CBCSrIEB5LSonSuU1xp6  11.617835  A1SD1C8XK3Z3V1  B00JBIVXGC   [0, 0]   \n",
       "6  8Q-SrIEB5LSonSuUsfz_  11.429770   A9P4Q7KX35RS2  B0002H04NE   [0, 0]   \n",
       "7  AQ-SrIEB5LSonSuUsf3_  11.403111  A398X9POBHK69N  B0002H0A3S   [0, 0]   \n",
       "8  Cw-SrIEB5LSonSuUrvkU  11.313062  A1LHMSY3Q46PJS  B0002E3CHC   [5, 6]   \n",
       "9  TQ-SrIEB5LSonSuUsf3_  11.042872  A2SKZZZBV1XYWP  B0002H0A3S  [8, 10]   \n",
       "\n",
       "   overall           date                                            reviews  \\\n",
       "0        5  1402704000000  My father is a full-time gigging musician prim...   \n",
       "1        5  1365033600000  I'm impressed with these EXP16 guitar strings....   \n",
       "2        5  1402444800000  I have to admit this up front - I'm a terrible...   \n",
       "3        5  1299024000000  I've used D'Addario strings for many, many yea...   \n",
       "4        5  1395619200000  I love this pedal. It gives just the right amo...   \n",
       "5        5  1404086400000  I've used Elixirs for about five years now. Th...   \n",
       "6        5  1390694400000  I usually use the Pro Steels (by D'Addario)  b...   \n",
       "7        5  1383177600000  These were the same strings originally strung ...   \n",
       "8        5  1197158400000  I've been using these strings for about eight ...   \n",
       "9        5  1268524800000  Not much to say here. Strings are a very perso...   \n",
       "\n",
       "  sentiment  helpful_review  \n",
       "0  Positive            0.00  \n",
       "1  Positive            0.00  \n",
       "2  Positive            1.00  \n",
       "3  Positive            1.00  \n",
       "4  Positive            0.00  \n",
       "5  Positive            0.00  \n",
       "6  Positive            0.00  \n",
       "7  Positive            0.00  \n",
       "8  Positive            0.83  \n",
       "9  Positive            0.80  "
      ]
     },
     "execution_count": 238,
     "metadata": {},
     "output_type": "execute_result"
    }
   ],
   "source": [
    "QUERY = {\n",
    "    'more_like_this': {\n",
    "        'fields': ['reviews'],\n",
    "        'like': [\n",
    "            {\n",
    "                '_index': INDEX_NAME,\n",
    "                '_id': 'xQ-SrIEB5LSonSuUrPch',\n",
    "            }\n",
    "        ],\n",
    "        'min_term_freq': 1,\n",
    "        'max_query_terms': 12,\n",
    "    }\n",
    "}\n",
    "resp = client.search(index=INDEX_NAME, query=QUERY, size=10)\n",
    "\n",
    "resp_df = pd.DataFrame({'_id': x['_id'], '_score': x['_score'], **x['_source']} for x in resp['hits']['hits'])\n",
    "resp_df"
   ]
  },
  {
   "cell_type": "code",
   "execution_count": 239,
   "metadata": {},
   "outputs": [
    {
     "data": {
      "text/plain": [
       "Positive    10\n",
       "Name: sentiment, dtype: int64"
      ]
     },
     "execution_count": 239,
     "metadata": {},
     "output_type": "execute_result"
    }
   ],
   "source": [
    "# Classificação baseado somente nos 10 mais próximos\n",
    "resp_df['sentiment'].value_counts()"
   ]
  },
  {
   "cell_type": "code",
   "execution_count": 241,
   "metadata": {},
   "outputs": [],
   "source": [
    "# Definindo um classificador:\n",
    "def classify_with_score(like, size=10):\n",
    "    \n",
    "    query = {\n",
    "        'more_like_this': {\n",
    "            'fields': ['reviews'],\n",
    "            'like': like,\n",
    "            'min_term_freq': 1,\n",
    "            'max_query_terms': 12,\n",
    "        }\n",
    "    }\n",
    "    \n",
    "    resp = client.search(index=INDEX_NAME, query=query, size=size)\n",
    "    \n",
    "    resp_df = pd.DataFrame(\n",
    "        {\n",
    "            '_id': x['_id'],\n",
    "            '_score': x['_score'],\n",
    "            **x['_source']\n",
    "        } for x in resp['hits']['hits']\n",
    "    )\n",
    "    return resp_df.groupby('sentiment').sum().index[0]"
   ]
  },
  {
   "cell_type": "code",
   "execution_count": 246,
   "metadata": {},
   "outputs": [
    {
     "data": {
      "text/plain": [
       "'Positive'"
      ]
     },
     "execution_count": 246,
     "metadata": {},
     "output_type": "execute_result"
    }
   ],
   "source": [
    "like = [\n",
    "    {\n",
    "        '_index': INDEX_NAME,\n",
    "        '_id': 'Cw-SrIEB5LSonSuUrvkU',\n",
    "    }\n",
    "]\n",
    "classify_with_score(like)"
   ]
  },
  {
   "cell_type": "code",
   "execution_count": 247,
   "metadata": {},
   "outputs": [],
   "source": [
    "def classify_document(doc_id, size=10):\n",
    "    \n",
    "    return classify_with_score(\n",
    "        [\n",
    "            {\n",
    "                '_index': INDEX_NAME,\n",
    "                '_id': doc_id\n",
    "            }\n",
    "        ]\n",
    "    )"
   ]
  },
  {
   "cell_type": "code",
   "execution_count": 248,
   "metadata": {},
   "outputs": [
    {
     "data": {
      "text/plain": [
       "'Positive'"
      ]
     },
     "execution_count": 248,
     "metadata": {},
     "output_type": "execute_result"
    }
   ],
   "source": [
    "classify_document('Cw-SrIEB5LSonSuUrvkU')"
   ]
  },
  {
   "cell_type": "markdown",
   "metadata": {},
   "source": [
    "#### [Avaliando o \"classificador\"](#avaliar)"
   ]
  },
  {
   "cell_type": "code",
   "execution_count": 251,
   "metadata": {},
   "outputs": [
    {
     "data": {
      "text/html": [
       "<div>\n",
       "<style scoped>\n",
       "    .dataframe tbody tr th:only-of-type {\n",
       "        vertical-align: middle;\n",
       "    }\n",
       "\n",
       "    .dataframe tbody tr th {\n",
       "        vertical-align: top;\n",
       "    }\n",
       "\n",
       "    .dataframe thead th {\n",
       "        text-align: right;\n",
       "    }\n",
       "</style>\n",
       "<table border=\"1\" class=\"dataframe\">\n",
       "  <thead>\n",
       "    <tr style=\"text-align: right;\">\n",
       "      <th></th>\n",
       "      <th>_id</th>\n",
       "      <th>sentiment</th>\n",
       "    </tr>\n",
       "  </thead>\n",
       "  <tbody>\n",
       "    <tr>\n",
       "      <th>0</th>\n",
       "      <td>_g-SrIEB5LSonSuUp_Gk</td>\n",
       "      <td>Positive</td>\n",
       "    </tr>\n",
       "    <tr>\n",
       "      <th>1</th>\n",
       "      <td>_w-SrIEB5LSonSuUp_Gk</td>\n",
       "      <td>Positive</td>\n",
       "    </tr>\n",
       "    <tr>\n",
       "      <th>2</th>\n",
       "      <td>AA-SrIEB5LSonSuUp_Kk</td>\n",
       "      <td>Positive</td>\n",
       "    </tr>\n",
       "    <tr>\n",
       "      <th>3</th>\n",
       "      <td>Ag-SrIEB5LSonSuUp_Kk</td>\n",
       "      <td>Positive</td>\n",
       "    </tr>\n",
       "    <tr>\n",
       "      <th>4</th>\n",
       "      <td>BA-SrIEB5LSonSuUp_Kk</td>\n",
       "      <td>Positive</td>\n",
       "    </tr>\n",
       "    <tr>\n",
       "      <th>...</th>\n",
       "      <td>...</td>\n",
       "      <td>...</td>\n",
       "    </tr>\n",
       "    <tr>\n",
       "      <th>95</th>\n",
       "      <td>KQ-SrIEB5LSonSuUp_Ok</td>\n",
       "      <td>Positive</td>\n",
       "    </tr>\n",
       "    <tr>\n",
       "      <th>96</th>\n",
       "      <td>Lg-SrIEB5LSonSuUp_Ok</td>\n",
       "      <td>Neutral</td>\n",
       "    </tr>\n",
       "    <tr>\n",
       "      <th>97</th>\n",
       "      <td>Mg-SrIEB5LSonSuUp_Ok</td>\n",
       "      <td>Positive</td>\n",
       "    </tr>\n",
       "    <tr>\n",
       "      <th>98</th>\n",
       "      <td>Ng-SrIEB5LSonSuUp_Ok</td>\n",
       "      <td>Positive</td>\n",
       "    </tr>\n",
       "    <tr>\n",
       "      <th>99</th>\n",
       "      <td>Nw-SrIEB5LSonSuUp_Ok</td>\n",
       "      <td>Positive</td>\n",
       "    </tr>\n",
       "  </tbody>\n",
       "</table>\n",
       "<p>100 rows × 2 columns</p>\n",
       "</div>"
      ],
      "text/plain": [
       "                     _id sentiment\n",
       "0   _g-SrIEB5LSonSuUp_Gk  Positive\n",
       "1   _w-SrIEB5LSonSuUp_Gk  Positive\n",
       "2   AA-SrIEB5LSonSuUp_Kk  Positive\n",
       "3   Ag-SrIEB5LSonSuUp_Kk  Positive\n",
       "4   BA-SrIEB5LSonSuUp_Kk  Positive\n",
       "..                   ...       ...\n",
       "95  KQ-SrIEB5LSonSuUp_Ok  Positive\n",
       "96  Lg-SrIEB5LSonSuUp_Ok   Neutral\n",
       "97  Mg-SrIEB5LSonSuUp_Ok  Positive\n",
       "98  Ng-SrIEB5LSonSuUp_Ok  Positive\n",
       "99  Nw-SrIEB5LSonSuUp_Ok  Positive\n",
       "\n",
       "[100 rows x 2 columns]"
      ]
     },
     "execution_count": 251,
     "metadata": {},
     "output_type": "execute_result"
    }
   ],
   "source": [
    "test_docs_resp = client.search(index=INDEX_NAME, size=100, _source=['sentiment'])\n",
    "\n",
    "test_docs = pd.DataFrame(\n",
    "        {\n",
    "            '_id': x['_id'],\n",
    "            **x['_source']\n",
    "        } for x in test_docs_resp['hits']['hits']\n",
    "    )\n",
    "test_docs"
   ]
  },
  {
   "cell_type": "code",
   "execution_count": 253,
   "metadata": {},
   "outputs": [
    {
     "data": {
      "text/html": [
       "<div>\n",
       "<style scoped>\n",
       "    .dataframe tbody tr th:only-of-type {\n",
       "        vertical-align: middle;\n",
       "    }\n",
       "\n",
       "    .dataframe tbody tr th {\n",
       "        vertical-align: top;\n",
       "    }\n",
       "\n",
       "    .dataframe thead th {\n",
       "        text-align: right;\n",
       "    }\n",
       "</style>\n",
       "<table border=\"1\" class=\"dataframe\">\n",
       "  <thead>\n",
       "    <tr style=\"text-align: right;\">\n",
       "      <th></th>\n",
       "      <th>_id</th>\n",
       "      <th>sentiment</th>\n",
       "      <th>predicted</th>\n",
       "    </tr>\n",
       "  </thead>\n",
       "  <tbody>\n",
       "    <tr>\n",
       "      <th>0</th>\n",
       "      <td>_g-SrIEB5LSonSuUp_Gk</td>\n",
       "      <td>Positive</td>\n",
       "      <td>Negative</td>\n",
       "    </tr>\n",
       "    <tr>\n",
       "      <th>1</th>\n",
       "      <td>_w-SrIEB5LSonSuUp_Gk</td>\n",
       "      <td>Positive</td>\n",
       "      <td>Negative</td>\n",
       "    </tr>\n",
       "    <tr>\n",
       "      <th>2</th>\n",
       "      <td>AA-SrIEB5LSonSuUp_Kk</td>\n",
       "      <td>Positive</td>\n",
       "      <td>Positive</td>\n",
       "    </tr>\n",
       "    <tr>\n",
       "      <th>3</th>\n",
       "      <td>Ag-SrIEB5LSonSuUp_Kk</td>\n",
       "      <td>Positive</td>\n",
       "      <td>Positive</td>\n",
       "    </tr>\n",
       "    <tr>\n",
       "      <th>4</th>\n",
       "      <td>BA-SrIEB5LSonSuUp_Kk</td>\n",
       "      <td>Positive</td>\n",
       "      <td>Positive</td>\n",
       "    </tr>\n",
       "    <tr>\n",
       "      <th>...</th>\n",
       "      <td>...</td>\n",
       "      <td>...</td>\n",
       "      <td>...</td>\n",
       "    </tr>\n",
       "    <tr>\n",
       "      <th>95</th>\n",
       "      <td>KQ-SrIEB5LSonSuUp_Ok</td>\n",
       "      <td>Positive</td>\n",
       "      <td>Neutral</td>\n",
       "    </tr>\n",
       "    <tr>\n",
       "      <th>96</th>\n",
       "      <td>Lg-SrIEB5LSonSuUp_Ok</td>\n",
       "      <td>Neutral</td>\n",
       "      <td>Negative</td>\n",
       "    </tr>\n",
       "    <tr>\n",
       "      <th>97</th>\n",
       "      <td>Mg-SrIEB5LSonSuUp_Ok</td>\n",
       "      <td>Positive</td>\n",
       "      <td>Positive</td>\n",
       "    </tr>\n",
       "    <tr>\n",
       "      <th>98</th>\n",
       "      <td>Ng-SrIEB5LSonSuUp_Ok</td>\n",
       "      <td>Positive</td>\n",
       "      <td>Negative</td>\n",
       "    </tr>\n",
       "    <tr>\n",
       "      <th>99</th>\n",
       "      <td>Nw-SrIEB5LSonSuUp_Ok</td>\n",
       "      <td>Positive</td>\n",
       "      <td>Neutral</td>\n",
       "    </tr>\n",
       "  </tbody>\n",
       "</table>\n",
       "<p>100 rows × 3 columns</p>\n",
       "</div>"
      ],
      "text/plain": [
       "                     _id sentiment predicted\n",
       "0   _g-SrIEB5LSonSuUp_Gk  Positive  Negative\n",
       "1   _w-SrIEB5LSonSuUp_Gk  Positive  Negative\n",
       "2   AA-SrIEB5LSonSuUp_Kk  Positive  Positive\n",
       "3   Ag-SrIEB5LSonSuUp_Kk  Positive  Positive\n",
       "4   BA-SrIEB5LSonSuUp_Kk  Positive  Positive\n",
       "..                   ...       ...       ...\n",
       "95  KQ-SrIEB5LSonSuUp_Ok  Positive   Neutral\n",
       "96  Lg-SrIEB5LSonSuUp_Ok   Neutral  Negative\n",
       "97  Mg-SrIEB5LSonSuUp_Ok  Positive  Positive\n",
       "98  Ng-SrIEB5LSonSuUp_Ok  Positive  Negative\n",
       "99  Nw-SrIEB5LSonSuUp_Ok  Positive   Neutral\n",
       "\n",
       "[100 rows x 3 columns]"
      ]
     },
     "execution_count": 253,
     "metadata": {},
     "output_type": "execute_result"
    }
   ],
   "source": [
    "test_docs['predicted'] = test_docs['_id'].apply(classify_document)\n",
    "\n",
    "test_docs"
   ]
  },
  {
   "cell_type": "code",
   "execution_count": 256,
   "metadata": {},
   "outputs": [
    {
     "name": "stdout",
     "output_type": "stream",
     "text": [
      "              precision    recall  f1-score   support\n",
      "\n",
      "    Negative       0.03      0.50      0.05         2\n",
      "     Neutral       0.00      0.00      0.00         8\n",
      "    Positive       0.89      0.38      0.53        90\n",
      "\n",
      "    accuracy                           0.35       100\n",
      "   macro avg       0.31      0.29      0.19       100\n",
      "weighted avg       0.81      0.35      0.48       100\n",
      "\n"
     ]
    }
   ],
   "source": [
    "print(\n",
    "    classification_report(\n",
    "        test_docs['sentiment'],\n",
    "        test_docs['predicted']\n",
    "    )\n",
    ")"
   ]
  }
 ],
 "metadata": {
  "colab": {
   "name": "Cópia de infnet_projeto_final.ipynb",
   "provenance": []
  },
  "kernelspec": {
   "display_name": "Python 3 (ipykernel)",
   "language": "python",
   "name": "python3"
  },
  "language_info": {
   "codemirror_mode": {
    "name": "ipython",
    "version": 3
   },
   "file_extension": ".py",
   "mimetype": "text/x-python",
   "name": "python",
   "nbconvert_exporter": "python",
   "pygments_lexer": "ipython3",
   "version": "3.9.7"
  }
 },
 "nbformat": 4,
 "nbformat_minor": 1
}
