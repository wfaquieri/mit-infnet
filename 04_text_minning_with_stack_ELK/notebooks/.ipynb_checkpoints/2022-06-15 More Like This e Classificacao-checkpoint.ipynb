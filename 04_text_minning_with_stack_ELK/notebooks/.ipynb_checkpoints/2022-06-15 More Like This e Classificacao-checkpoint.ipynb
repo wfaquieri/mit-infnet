{
 "cells": [
  {
   "cell_type": "markdown",
   "id": "58d4bdb3-f0b6-4228-abf1-ad7f23a5afd7",
   "metadata": {},
   "source": [
    "# Query \"More Like This\" e Classificação"
   ]
  },
  {
   "cell_type": "code",
   "execution_count": 16,
   "id": "2b20d56a-2279-4db9-8c65-2a8423bf2e37",
   "metadata": {},
   "outputs": [],
   "source": [
    "import pandas as pd"
   ]
  },
  {
   "cell_type": "code",
   "execution_count": 2,
   "id": "ec4c174b-2147-41b3-a4dc-eb6ca4554cc8",
   "metadata": {},
   "outputs": [
    {
     "name": "stderr",
     "output_type": "stream",
     "text": [
      "/home/felipefg/.pyenv/versions/3.9.1/envs/infnet/lib/python3.9/site-packages/elasticsearch/_sync/client/__init__.py:395: SecurityWarning: Connecting to 'https://localhost:9200' using TLS with verify_certs=False is insecure\n",
      "  _transport = transport_class(\n"
     ]
    }
   ],
   "source": [
    "import elasticsearch\n",
    "\n",
    "ES_URL = 'https://localhost:9200'\n",
    "ES_USER = 'elastic'\n",
    "ES_PASS = 'elastic123'\n",
    "\n",
    "client = elasticsearch.Elasticsearch(\n",
    "    ES_URL,\n",
    "    basic_auth=(ES_USER, ES_PASS),\n",
    "    verify_certs=False\n",
    ")"
   ]
  },
  {
   "cell_type": "code",
   "execution_count": 3,
   "id": "fc57a4f4-533c-47ff-aaa3-d99cf795c4cc",
   "metadata": {},
   "outputs": [],
   "source": [
    "# Desligando warning para facilitar nossa vida\n",
    "import urllib3\n",
    "urllib3.disable_warnings()"
   ]
  },
  {
   "cell_type": "code",
   "execution_count": 4,
   "id": "eb9cd496-d5f3-44f2-a8de-5e638a1770b6",
   "metadata": {},
   "outputs": [
    {
     "data": {
      "text/plain": [
       "ObjectApiResponse({'name': 'es01', 'cluster_name': 'docker-cluster', 'cluster_uuid': 'lAp3li4KRDO3fTSHji4B4g', 'version': {'number': '8.2.2', 'build_flavor': 'default', 'build_type': 'docker', 'build_hash': '9876968ef3c745186b94fdabd4483e01499224ef', 'build_date': '2022-05-25T15:47:06.259735307Z', 'build_snapshot': False, 'lucene_version': '9.1.0', 'minimum_wire_compatibility_version': '7.17.0', 'minimum_index_compatibility_version': '7.0.0'}, 'tagline': 'You Know, for Search'})"
      ]
     },
     "execution_count": 4,
     "metadata": {},
     "output_type": "execute_result"
    }
   ],
   "source": [
    "client.info()"
   ]
  },
  {
   "cell_type": "code",
   "execution_count": 5,
   "id": "a3297390-52fc-448c-8114-65ada513dacf",
   "metadata": {},
   "outputs": [],
   "source": [
    "INDEX_NAME = '20newsgroup_teste_insercao'"
   ]
  },
  {
   "cell_type": "markdown",
   "id": "a3d590c1-ef08-40e9-9672-bb442767a2f6",
   "metadata": {},
   "source": [
    "# Busca com um documento em string"
   ]
  },
  {
   "cell_type": "code",
   "execution_count": 10,
   "id": "3736d48a-67bf-4fb2-9c78-1142afd7c6a6",
   "metadata": {},
   "outputs": [],
   "source": [
    "doc = client.search(index=INDEX_NAME, q='windows', size=150)['hits']['hits'][-1]"
   ]
  },
  {
   "cell_type": "code",
   "execution_count": 12,
   "id": "866e4f2e-4e10-4927-ad3c-f6eb78c40d2a",
   "metadata": {},
   "outputs": [
    {
     "name": "stdout",
     "output_type": "stream",
     "text": [
      "From: craig@toontown.ColumbiaSC.NCR.COM (Craig S. Williamson)\n",
      "Subject: Video in/out\n",
      "Reply-To: craig@toontown.ColumbiaSC.NCR.COM (Craig S. Williamson)\n",
      "Distribution: na\n",
      "Organization: NCR E&M Columbia, SC\n",
      "Lines: 14\n",
      "\n",
      "\n",
      "I'm getting ready to buy a multimedia workstation and would like a little\n",
      "advice.  I need a graphics card that will do video in and out under windows.\n",
      "I was originally thinking of a Targa+ but that doesn't work under Windows.\n",
      "What cards should I be looking into?\n",
      "\n",
      "Thanks,\n",
      "Craig\n",
      "\n",
      "-- \n",
      "                                             \"To forgive is divine, to be\n",
      "-Craig Williamson                              an airhead is human.\"\n",
      " Craig.Williamson@ColumbiaSC.NCR.COM                -Balki Bartokomas\n",
      " craig@toontown.ColumbiaSC.NCR.COM (home)                  Perfect Strangers\n",
      "\n"
     ]
    }
   ],
   "source": [
    "print(doc['_source']['message'])"
   ]
  },
  {
   "cell_type": "code",
   "execution_count": 44,
   "id": "132dcef7-d05b-44c2-808b-d657ddb7d4fe",
   "metadata": {},
   "outputs": [],
   "source": [
    "QUERY = {\n",
    "    'more_like_this': {\n",
    "        'fields': ['message'],\n",
    "        'like': [\n",
    "            {\n",
    "                '_index': INDEX_NAME,\n",
    "                '_id': 'F4mTaYEBgNM6tyVNXMNu',\n",
    "            }\n",
    "        ],\n",
    "        'min_term_freq': 1,\n",
    "        'max_query_terms': 12,\n",
    "    }\n",
    "}\n",
    "resp = client.search(index=INDEX_NAME, query=QUERY, size=10)"
   ]
  },
  {
   "cell_type": "code",
   "execution_count": 45,
   "id": "e1dd5768-bb44-4e96-9617-fa83dbecf133",
   "metadata": {},
   "outputs": [],
   "source": [
    "resp_df = pd.DataFrame({'_id': x['_id'], '_score': x['_score'], **x['_source']} for x in resp['hits']['hits'])"
   ]
  },
  {
   "cell_type": "code",
   "execution_count": 46,
   "id": "64dda737-8bc2-4a67-9709-edee913b465b",
   "metadata": {},
   "outputs": [
    {
     "data": {
      "text/html": [
       "<div>\n",
       "<style scoped>\n",
       "    .dataframe tbody tr th:only-of-type {\n",
       "        vertical-align: middle;\n",
       "    }\n",
       "\n",
       "    .dataframe tbody tr th {\n",
       "        vertical-align: top;\n",
       "    }\n",
       "\n",
       "    .dataframe thead th {\n",
       "        text-align: right;\n",
       "    }\n",
       "</style>\n",
       "<table border=\"1\" class=\"dataframe\">\n",
       "  <thead>\n",
       "    <tr style=\"text-align: right;\">\n",
       "      <th></th>\n",
       "      <th>_id</th>\n",
       "      <th>_score</th>\n",
       "      <th>newsgroup</th>\n",
       "      <th>message</th>\n",
       "    </tr>\n",
       "  </thead>\n",
       "  <tbody>\n",
       "    <tr>\n",
       "      <th>0</th>\n",
       "      <td>8omTaYEBgNM6tyVNXs_Y</td>\n",
       "      <td>63.733517</td>\n",
       "      <td>comp.graphics</td>\n",
       "      <td>From: mscrap@halcyon.com (Marta Lyall)\\nSubjec...</td>\n",
       "    </tr>\n",
       "    <tr>\n",
       "      <th>1</th>\n",
       "      <td>-YmTaYEBgNM6tyVNYdyW</td>\n",
       "      <td>58.789140</td>\n",
       "      <td>comp.graphics</td>\n",
       "      <td>Subject: Re: Video in/out\\nFrom: djlewis@ualr....</td>\n",
       "    </tr>\n",
       "    <tr>\n",
       "      <th>2</th>\n",
       "      <td>oImTaYEBgNM6tyVNXcqr</td>\n",
       "      <td>35.770927</td>\n",
       "      <td>sci.electronics</td>\n",
       "      <td>From: craig@toontown.ColumbiaSC.NCR.COM (Craig...</td>\n",
       "    </tr>\n",
       "    <tr>\n",
       "      <th>3</th>\n",
       "      <td>LImTaYEBgNM6tyVNWry3</td>\n",
       "      <td>22.079391</td>\n",
       "      <td>sci.electronics</td>\n",
       "      <td>From: keith@churchill.ColumbiaSC.NCR.COM (Keit...</td>\n",
       "    </tr>\n",
       "    <tr>\n",
       "      <th>4</th>\n",
       "      <td>1ImTaYEBgNM6tyVNX9X2</td>\n",
       "      <td>20.423822</td>\n",
       "      <td>comp.sys.ibm.pc.hardware</td>\n",
       "      <td>From: dmoyer@ccscola.Columbia.NCR.COM (Dan Moy...</td>\n",
       "    </tr>\n",
       "    <tr>\n",
       "      <th>5</th>\n",
       "      <td>xImTaYEBgNM6tyVNX9X2</td>\n",
       "      <td>18.989567</td>\n",
       "      <td>comp.os.ms-windows.misc</td>\n",
       "      <td>From: claborne@npg-sd.SanDiegoCA.NCR.COM (Chri...</td>\n",
       "    </tr>\n",
       "    <tr>\n",
       "      <th>6</th>\n",
       "      <td>SImTaYEBgNM6tyVNXMNu</td>\n",
       "      <td>18.935436</td>\n",
       "      <td>soc.religion.christian</td>\n",
       "      <td>From: stanly@grok11.columbiasc.ncr.com (stanly...</td>\n",
       "    </tr>\n",
       "    <tr>\n",
       "      <th>7</th>\n",
       "      <td>0YmTaYEBgNM6tyVNWry4</td>\n",
       "      <td>17.034029</td>\n",
       "      <td>comp.sys.ibm.pc.hardware</td>\n",
       "      <td>From: root@zeos.com (Superuser)\\nSubject: ZEOS...</td>\n",
       "    </tr>\n",
       "    <tr>\n",
       "      <th>8</th>\n",
       "      <td>Q4mTaYEBgNM6tyVNX9Sc</td>\n",
       "      <td>16.868378</td>\n",
       "      <td>comp.sys.ibm.pc.hardware</td>\n",
       "      <td>From: dmoyer@ccscola.Columbia.NCR.COM (Dan Moy...</td>\n",
       "    </tr>\n",
       "    <tr>\n",
       "      <th>9</th>\n",
       "      <td>3omTaYEBgNM6tyVNW74P</td>\n",
       "      <td>15.637598</td>\n",
       "      <td>comp.os.ms-windows.misc</td>\n",
       "      <td>From: lcornell@stein.u.washington.edu (Linda D...</td>\n",
       "    </tr>\n",
       "  </tbody>\n",
       "</table>\n",
       "</div>"
      ],
      "text/plain": [
       "                    _id     _score                 newsgroup  \\\n",
       "0  8omTaYEBgNM6tyVNXs_Y  63.733517             comp.graphics   \n",
       "1  -YmTaYEBgNM6tyVNYdyW  58.789140             comp.graphics   \n",
       "2  oImTaYEBgNM6tyVNXcqr  35.770927           sci.electronics   \n",
       "3  LImTaYEBgNM6tyVNWry3  22.079391           sci.electronics   \n",
       "4  1ImTaYEBgNM6tyVNX9X2  20.423822  comp.sys.ibm.pc.hardware   \n",
       "5  xImTaYEBgNM6tyVNX9X2  18.989567   comp.os.ms-windows.misc   \n",
       "6  SImTaYEBgNM6tyVNXMNu  18.935436    soc.religion.christian   \n",
       "7  0YmTaYEBgNM6tyVNWry4  17.034029  comp.sys.ibm.pc.hardware   \n",
       "8  Q4mTaYEBgNM6tyVNX9Sc  16.868378  comp.sys.ibm.pc.hardware   \n",
       "9  3omTaYEBgNM6tyVNW74P  15.637598   comp.os.ms-windows.misc   \n",
       "\n",
       "                                             message  \n",
       "0  From: mscrap@halcyon.com (Marta Lyall)\\nSubjec...  \n",
       "1  Subject: Re: Video in/out\\nFrom: djlewis@ualr....  \n",
       "2  From: craig@toontown.ColumbiaSC.NCR.COM (Craig...  \n",
       "3  From: keith@churchill.ColumbiaSC.NCR.COM (Keit...  \n",
       "4  From: dmoyer@ccscola.Columbia.NCR.COM (Dan Moy...  \n",
       "5  From: claborne@npg-sd.SanDiegoCA.NCR.COM (Chri...  \n",
       "6  From: stanly@grok11.columbiasc.ncr.com (stanly...  \n",
       "7  From: root@zeos.com (Superuser)\\nSubject: ZEOS...  \n",
       "8  From: dmoyer@ccscola.Columbia.NCR.COM (Dan Moy...  \n",
       "9  From: lcornell@stein.u.washington.edu (Linda D...  "
      ]
     },
     "execution_count": 46,
     "metadata": {},
     "output_type": "execute_result"
    }
   ],
   "source": [
    "resp_df"
   ]
  },
  {
   "cell_type": "markdown",
   "id": "f34e21b9-a047-4a3b-a90f-079fa8976c46",
   "metadata": {},
   "source": [
    "## Classificação baseado somente nos 10 mais próximos"
   ]
  },
  {
   "cell_type": "code",
   "execution_count": 43,
   "id": "de21c674-4b50-4790-90e1-2744724260b2",
   "metadata": {},
   "outputs": [
    {
     "data": {
      "text/plain": [
       "comp.sys.ibm.pc.hardware    3\n",
       "comp.graphics               2\n",
       "sci.electronics             2\n",
       "comp.os.ms-windows.misc     2\n",
       "soc.religion.christian      1\n",
       "Name: newsgroup, dtype: int64"
      ]
     },
     "execution_count": 43,
     "metadata": {},
     "output_type": "execute_result"
    }
   ],
   "source": [
    "resp_df['newsgroup'].value_counts()"
   ]
  },
  {
   "cell_type": "code",
   "execution_count": 49,
   "id": "8f761ce9-7aab-43e2-acfc-7d6a9176d7b5",
   "metadata": {},
   "outputs": [
    {
     "data": {
      "text/plain": [
       "'comp.graphics'"
      ]
     },
     "execution_count": 49,
     "metadata": {},
     "output_type": "execute_result"
    }
   ],
   "source": [
    "resp_df.groupby('newsgroup').sum().index[0]"
   ]
  },
  {
   "cell_type": "code",
   "execution_count": 50,
   "id": "df964a3a-93e2-41ba-9209-f3b21a93f532",
   "metadata": {},
   "outputs": [],
   "source": [
    "def classify_with_score(like, size=10):\n",
    "    \n",
    "    query = {\n",
    "        'more_like_this': {\n",
    "            'fields': ['message'],\n",
    "            'like': like,\n",
    "            'min_term_freq': 1,\n",
    "            'max_query_terms': 12,\n",
    "        }\n",
    "    }\n",
    "    resp = client.search(index=INDEX_NAME, query=query, size=size)\n",
    "    \n",
    "    resp_df = pd.DataFrame(\n",
    "        {\n",
    "            '_id': x['_id'],\n",
    "            '_score': x['_score'],\n",
    "            **x['_source']\n",
    "        } for x in resp['hits']['hits']\n",
    "    )\n",
    "    return resp_df.groupby('newsgroup').sum().index[0]\n",
    "    "
   ]
  },
  {
   "cell_type": "code",
   "execution_count": 52,
   "id": "2b592255-3778-4304-bc8f-a661e76aca36",
   "metadata": {},
   "outputs": [
    {
     "data": {
      "text/plain": [
       "'soc.religion.christian'"
      ]
     },
     "execution_count": 52,
     "metadata": {},
     "output_type": "execute_result"
    }
   ],
   "source": [
    "like = [\n",
    "    {\n",
    "        '_index': INDEX_NAME,\n",
    "        '_id': 'SImTaYEBgNM6tyVNXMNu',\n",
    "    }\n",
    "]\n",
    "classify_with_score(like)"
   ]
  },
  {
   "cell_type": "code",
   "execution_count": 65,
   "id": "39e9658a-621a-42ad-b6a8-64bfd431e78b",
   "metadata": {},
   "outputs": [],
   "source": [
    "def classify_document(doc_id, size=10):\n",
    "    \n",
    "    return classify_with_score(\n",
    "        [\n",
    "            {\n",
    "                '_index': INDEX_NAME,\n",
    "                '_id': doc_id\n",
    "            }\n",
    "        ]\n",
    "    )"
   ]
  },
  {
   "cell_type": "code",
   "execution_count": 66,
   "id": "19ed308e-733d-45ef-8887-eb8143d81344",
   "metadata": {},
   "outputs": [
    {
     "data": {
      "text/plain": [
       "'soc.religion.christian'"
      ]
     },
     "execution_count": 66,
     "metadata": {},
     "output_type": "execute_result"
    }
   ],
   "source": [
    "classify_document('SImTaYEBgNM6tyVNXMNu')"
   ]
  },
  {
   "cell_type": "markdown",
   "id": "6575c558-4b43-4abf-b1d8-f4052d122a24",
   "metadata": {},
   "source": [
    "# Avaliando o \"classificador\""
   ]
  },
  {
   "cell_type": "code",
   "execution_count": 62,
   "id": "b0cd6609-f2c1-467f-b1cd-d85d1be094ec",
   "metadata": {},
   "outputs": [],
   "source": [
    "test_docs_resp = client.search(index=INDEX_NAME, size=100, _source=['newsgroup'])"
   ]
  },
  {
   "cell_type": "code",
   "execution_count": 63,
   "id": "fa169d39-a430-4688-ac8b-2890c36cf023",
   "metadata": {},
   "outputs": [],
   "source": [
    "test_docs = pd.DataFrame(\n",
    "        {\n",
    "            '_id': x['_id'],\n",
    "            **x['_source']\n",
    "        } for x in test_docs_resp['hits']['hits']\n",
    "    )"
   ]
  },
  {
   "cell_type": "code",
   "execution_count": 64,
   "id": "30badf49-891f-4f3d-bd54-8dd33c20b0b4",
   "metadata": {},
   "outputs": [
    {
     "data": {
      "text/html": [
       "<div>\n",
       "<style scoped>\n",
       "    .dataframe tbody tr th:only-of-type {\n",
       "        vertical-align: middle;\n",
       "    }\n",
       "\n",
       "    .dataframe tbody tr th {\n",
       "        vertical-align: top;\n",
       "    }\n",
       "\n",
       "    .dataframe thead th {\n",
       "        text-align: right;\n",
       "    }\n",
       "</style>\n",
       "<table border=\"1\" class=\"dataframe\">\n",
       "  <thead>\n",
       "    <tr style=\"text-align: right;\">\n",
       "      <th></th>\n",
       "      <th>_id</th>\n",
       "      <th>newsgroup</th>\n",
       "    </tr>\n",
       "  </thead>\n",
       "  <tbody>\n",
       "    <tr>\n",
       "      <th>0</th>\n",
       "      <td>Y4mTaYEBgNM6tyVNWLHP</td>\n",
       "      <td>rec.autos</td>\n",
       "    </tr>\n",
       "    <tr>\n",
       "      <th>1</th>\n",
       "      <td>ZomTaYEBgNM6tyVNWLHP</td>\n",
       "      <td>comp.graphics</td>\n",
       "    </tr>\n",
       "    <tr>\n",
       "      <th>2</th>\n",
       "      <td>bImTaYEBgNM6tyVNWLHP</td>\n",
       "      <td>comp.sys.mac.hardware</td>\n",
       "    </tr>\n",
       "    <tr>\n",
       "      <th>3</th>\n",
       "      <td>bomTaYEBgNM6tyVNWLHP</td>\n",
       "      <td>talk.religion.misc</td>\n",
       "    </tr>\n",
       "    <tr>\n",
       "      <th>4</th>\n",
       "      <td>cYmTaYEBgNM6tyVNWLHP</td>\n",
       "      <td>misc.forsale</td>\n",
       "    </tr>\n",
       "    <tr>\n",
       "      <th>...</th>\n",
       "      <td>...</td>\n",
       "      <td>...</td>\n",
       "    </tr>\n",
       "    <tr>\n",
       "      <th>95</th>\n",
       "      <td>SomTaYEBgNM6tyVNWLLQ</td>\n",
       "      <td>comp.os.ms-windows.misc</td>\n",
       "    </tr>\n",
       "    <tr>\n",
       "      <th>96</th>\n",
       "      <td>S4mTaYEBgNM6tyVNWLLQ</td>\n",
       "      <td>sci.space</td>\n",
       "    </tr>\n",
       "    <tr>\n",
       "      <th>97</th>\n",
       "      <td>TYmTaYEBgNM6tyVNWLLQ</td>\n",
       "      <td>comp.os.ms-windows.misc</td>\n",
       "    </tr>\n",
       "    <tr>\n",
       "      <th>98</th>\n",
       "      <td>UYmTaYEBgNM6tyVNWLLQ</td>\n",
       "      <td>rec.sport.baseball</td>\n",
       "    </tr>\n",
       "    <tr>\n",
       "      <th>99</th>\n",
       "      <td>U4mTaYEBgNM6tyVNWLLQ</td>\n",
       "      <td>soc.religion.christian</td>\n",
       "    </tr>\n",
       "  </tbody>\n",
       "</table>\n",
       "<p>100 rows × 2 columns</p>\n",
       "</div>"
      ],
      "text/plain": [
       "                     _id                newsgroup\n",
       "0   Y4mTaYEBgNM6tyVNWLHP                rec.autos\n",
       "1   ZomTaYEBgNM6tyVNWLHP            comp.graphics\n",
       "2   bImTaYEBgNM6tyVNWLHP    comp.sys.mac.hardware\n",
       "3   bomTaYEBgNM6tyVNWLHP       talk.religion.misc\n",
       "4   cYmTaYEBgNM6tyVNWLHP             misc.forsale\n",
       "..                   ...                      ...\n",
       "95  SomTaYEBgNM6tyVNWLLQ  comp.os.ms-windows.misc\n",
       "96  S4mTaYEBgNM6tyVNWLLQ                sci.space\n",
       "97  TYmTaYEBgNM6tyVNWLLQ  comp.os.ms-windows.misc\n",
       "98  UYmTaYEBgNM6tyVNWLLQ       rec.sport.baseball\n",
       "99  U4mTaYEBgNM6tyVNWLLQ   soc.religion.christian\n",
       "\n",
       "[100 rows x 2 columns]"
      ]
     },
     "execution_count": 64,
     "metadata": {},
     "output_type": "execute_result"
    }
   ],
   "source": [
    "test_docs"
   ]
  },
  {
   "cell_type": "code",
   "execution_count": 67,
   "id": "6d9d64d0-c28c-433c-b514-8beb67c6f823",
   "metadata": {},
   "outputs": [],
   "source": [
    "test_docs['predicted'] = test_docs['_id'].apply(classify_document)"
   ]
  },
  {
   "cell_type": "code",
   "execution_count": 68,
   "id": "4d679870-af29-4958-b8b5-fb8016fee92f",
   "metadata": {},
   "outputs": [
    {
     "data": {
      "text/html": [
       "<div>\n",
       "<style scoped>\n",
       "    .dataframe tbody tr th:only-of-type {\n",
       "        vertical-align: middle;\n",
       "    }\n",
       "\n",
       "    .dataframe tbody tr th {\n",
       "        vertical-align: top;\n",
       "    }\n",
       "\n",
       "    .dataframe thead th {\n",
       "        text-align: right;\n",
       "    }\n",
       "</style>\n",
       "<table border=\"1\" class=\"dataframe\">\n",
       "  <thead>\n",
       "    <tr style=\"text-align: right;\">\n",
       "      <th></th>\n",
       "      <th>_id</th>\n",
       "      <th>newsgroup</th>\n",
       "      <th>predicted</th>\n",
       "    </tr>\n",
       "  </thead>\n",
       "  <tbody>\n",
       "    <tr>\n",
       "      <th>0</th>\n",
       "      <td>Y4mTaYEBgNM6tyVNWLHP</td>\n",
       "      <td>rec.autos</td>\n",
       "      <td>misc.forsale</td>\n",
       "    </tr>\n",
       "    <tr>\n",
       "      <th>1</th>\n",
       "      <td>ZomTaYEBgNM6tyVNWLHP</td>\n",
       "      <td>comp.graphics</td>\n",
       "      <td>comp.graphics</td>\n",
       "    </tr>\n",
       "    <tr>\n",
       "      <th>2</th>\n",
       "      <td>bImTaYEBgNM6tyVNWLHP</td>\n",
       "      <td>comp.sys.mac.hardware</td>\n",
       "      <td>comp.graphics</td>\n",
       "    </tr>\n",
       "    <tr>\n",
       "      <th>3</th>\n",
       "      <td>bomTaYEBgNM6tyVNWLHP</td>\n",
       "      <td>talk.religion.misc</td>\n",
       "      <td>alt.atheism</td>\n",
       "    </tr>\n",
       "    <tr>\n",
       "      <th>4</th>\n",
       "      <td>cYmTaYEBgNM6tyVNWLHP</td>\n",
       "      <td>misc.forsale</td>\n",
       "      <td>misc.forsale</td>\n",
       "    </tr>\n",
       "    <tr>\n",
       "      <th>...</th>\n",
       "      <td>...</td>\n",
       "      <td>...</td>\n",
       "      <td>...</td>\n",
       "    </tr>\n",
       "    <tr>\n",
       "      <th>95</th>\n",
       "      <td>SomTaYEBgNM6tyVNWLLQ</td>\n",
       "      <td>comp.os.ms-windows.misc</td>\n",
       "      <td>comp.os.ms-windows.misc</td>\n",
       "    </tr>\n",
       "    <tr>\n",
       "      <th>96</th>\n",
       "      <td>S4mTaYEBgNM6tyVNWLLQ</td>\n",
       "      <td>sci.space</td>\n",
       "      <td>sci.space</td>\n",
       "    </tr>\n",
       "    <tr>\n",
       "      <th>97</th>\n",
       "      <td>TYmTaYEBgNM6tyVNWLLQ</td>\n",
       "      <td>comp.os.ms-windows.misc</td>\n",
       "      <td>comp.graphics</td>\n",
       "    </tr>\n",
       "    <tr>\n",
       "      <th>98</th>\n",
       "      <td>UYmTaYEBgNM6tyVNWLLQ</td>\n",
       "      <td>rec.sport.baseball</td>\n",
       "      <td>comp.windows.x</td>\n",
       "    </tr>\n",
       "    <tr>\n",
       "      <th>99</th>\n",
       "      <td>U4mTaYEBgNM6tyVNWLLQ</td>\n",
       "      <td>soc.religion.christian</td>\n",
       "      <td>comp.sys.mac.hardware</td>\n",
       "    </tr>\n",
       "  </tbody>\n",
       "</table>\n",
       "<p>100 rows × 3 columns</p>\n",
       "</div>"
      ],
      "text/plain": [
       "                     _id                newsgroup                predicted\n",
       "0   Y4mTaYEBgNM6tyVNWLHP                rec.autos             misc.forsale\n",
       "1   ZomTaYEBgNM6tyVNWLHP            comp.graphics            comp.graphics\n",
       "2   bImTaYEBgNM6tyVNWLHP    comp.sys.mac.hardware            comp.graphics\n",
       "3   bomTaYEBgNM6tyVNWLHP       talk.religion.misc              alt.atheism\n",
       "4   cYmTaYEBgNM6tyVNWLHP             misc.forsale             misc.forsale\n",
       "..                   ...                      ...                      ...\n",
       "95  SomTaYEBgNM6tyVNWLLQ  comp.os.ms-windows.misc  comp.os.ms-windows.misc\n",
       "96  S4mTaYEBgNM6tyVNWLLQ                sci.space                sci.space\n",
       "97  TYmTaYEBgNM6tyVNWLLQ  comp.os.ms-windows.misc            comp.graphics\n",
       "98  UYmTaYEBgNM6tyVNWLLQ       rec.sport.baseball           comp.windows.x\n",
       "99  U4mTaYEBgNM6tyVNWLLQ   soc.religion.christian    comp.sys.mac.hardware\n",
       "\n",
       "[100 rows x 3 columns]"
      ]
     },
     "execution_count": 68,
     "metadata": {},
     "output_type": "execute_result"
    }
   ],
   "source": [
    "test_docs"
   ]
  },
  {
   "cell_type": "code",
   "execution_count": 69,
   "id": "0650179b-0bc3-4d87-a933-2d2e0ec67062",
   "metadata": {},
   "outputs": [],
   "source": [
    "from sklearn.metrics import classification_report"
   ]
  },
  {
   "cell_type": "code",
   "execution_count": 70,
   "id": "7605a5f2-53f6-461b-8ca6-760e3f75f405",
   "metadata": {},
   "outputs": [
    {
     "name": "stdout",
     "output_type": "stream",
     "text": [
      "                          precision    recall  f1-score   support\n",
      "\n",
      "             alt.atheism       0.50      1.00      0.67         2\n",
      "           comp.graphics       0.39      0.88      0.54         8\n",
      " comp.os.ms-windows.misc       0.64      0.70      0.67        10\n",
      "comp.sys.ibm.pc.hardware       0.25      0.50      0.33         2\n",
      "   comp.sys.mac.hardware       0.80      0.57      0.67         7\n",
      "          comp.windows.x       0.33      0.50      0.40         4\n",
      "            misc.forsale       0.43      0.43      0.43         7\n",
      "               rec.autos       0.33      0.25      0.29         4\n",
      "         rec.motorcycles       0.80      0.57      0.67         7\n",
      "      rec.sport.baseball       1.00      0.40      0.57         5\n",
      "        rec.sport.hockey       1.00      0.80      0.89         5\n",
      "               sci.crypt       0.75      1.00      0.86         3\n",
      "         sci.electronics       0.00      0.00      0.00         3\n",
      "                 sci.med       1.00      0.40      0.57         5\n",
      "               sci.space       1.00      1.00      1.00         8\n",
      "  soc.religion.christian       1.00      0.78      0.88         9\n",
      "      talk.politics.guns       1.00      1.00      1.00         3\n",
      "   talk.politics.mideast       1.00      0.83      0.91         6\n",
      "      talk.politics.misc       1.00      1.00      1.00         1\n",
      "      talk.religion.misc       0.00      0.00      0.00         1\n",
      "\n",
      "                accuracy                           0.66       100\n",
      "               macro avg       0.66      0.63      0.62       100\n",
      "            weighted avg       0.72      0.66      0.66       100\n",
      "\n"
     ]
    },
    {
     "name": "stderr",
     "output_type": "stream",
     "text": [
      "/home/felipefg/.pyenv/versions/3.9.1/envs/infnet/lib/python3.9/site-packages/sklearn/metrics/_classification.py:1327: UndefinedMetricWarning: Precision and F-score are ill-defined and being set to 0.0 in labels with no predicted samples. Use `zero_division` parameter to control this behavior.\n",
      "  _warn_prf(average, modifier, msg_start, len(result))\n",
      "/home/felipefg/.pyenv/versions/3.9.1/envs/infnet/lib/python3.9/site-packages/sklearn/metrics/_classification.py:1327: UndefinedMetricWarning: Precision and F-score are ill-defined and being set to 0.0 in labels with no predicted samples. Use `zero_division` parameter to control this behavior.\n",
      "  _warn_prf(average, modifier, msg_start, len(result))\n",
      "/home/felipefg/.pyenv/versions/3.9.1/envs/infnet/lib/python3.9/site-packages/sklearn/metrics/_classification.py:1327: UndefinedMetricWarning: Precision and F-score are ill-defined and being set to 0.0 in labels with no predicted samples. Use `zero_division` parameter to control this behavior.\n",
      "  _warn_prf(average, modifier, msg_start, len(result))\n"
     ]
    }
   ],
   "source": [
    "print(\n",
    "    classification_report(\n",
    "        test_docs['newsgroup'],\n",
    "        test_docs['predicted']\n",
    "    )\n",
    ")"
   ]
  },
  {
   "cell_type": "code",
   "execution_count": null,
   "id": "12276f62-8e78-4afd-8f4a-b09d89f3f929",
   "metadata": {},
   "outputs": [],
   "source": []
  }
 ],
 "metadata": {
  "kernelspec": {
   "display_name": "Python 3 (ipykernel)",
   "language": "python",
   "name": "python3"
  },
  "language_info": {
   "codemirror_mode": {
    "name": "ipython",
    "version": 3
   },
   "file_extension": ".py",
   "mimetype": "text/x-python",
   "name": "python",
   "nbconvert_exporter": "python",
   "pygments_lexer": "ipython3",
   "version": "3.9.7"
  }
 },
 "nbformat": 4,
 "nbformat_minor": 5
}
