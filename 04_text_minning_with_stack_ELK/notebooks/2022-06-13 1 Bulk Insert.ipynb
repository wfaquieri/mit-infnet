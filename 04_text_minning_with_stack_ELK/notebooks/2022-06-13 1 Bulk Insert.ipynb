{
 "cells": [
  {
   "cell_type": "markdown",
   "metadata": {},
   "source": [
    "# Criação de Mapping e Inserção em Bulk"
   ]
  },
  {
   "cell_type": "code",
   "execution_count": 1,
   "metadata": {},
   "outputs": [],
   "source": [
    "import json\n",
    "import pandas as pd"
   ]
  },
  {
   "cell_type": "code",
   "execution_count": 2,
   "metadata": {},
   "outputs": [
    {
     "name": "stderr",
     "output_type": "stream",
     "text": [
      "/home/felipefg/.pyenv/versions/3.9.1/envs/infnet/lib/python3.9/site-packages/elasticsearch/_sync/client/__init__.py:395: SecurityWarning: Connecting to 'https://localhost:9200' using TLS with verify_certs=False is insecure\n",
      "  _transport = transport_class(\n"
     ]
    }
   ],
   "source": [
    "import elasticsearch\n",
    "\n",
    "ES_URL = 'https://localhost:9200'\n",
    "ES_USER = 'elastic'\n",
    "ES_PASS = 'elastic123'\n",
    "\n",
    "client = elasticsearch.Elasticsearch(\n",
    "    ES_URL,\n",
    "    basic_auth=(ES_USER, ES_PASS),\n",
    "    verify_certs=False\n",
    ")"
   ]
  },
  {
   "cell_type": "code",
   "execution_count": 3,
   "metadata": {},
   "outputs": [],
   "source": [
    "# Desligando warning para facilitar nossa vida\n",
    "import urllib3\n",
    "urllib3.disable_warnings()"
   ]
  },
  {
   "cell_type": "markdown",
   "metadata": {},
   "source": [
    "# Exploração dos Dados\n",
    "\n",
    "Trabalharemos sobre o [20 Newsgroup Dataset](http://qwone.com/~jason/20Newsgroups/), que possui as seguintes colunas:\n",
    "\n",
    "- `newsgroup`: Nome do grupo de discussão\n",
    "- `message`: Corpo da mensagem, incluindo o cabeçalho"
   ]
  },
  {
   "cell_type": "code",
   "execution_count": 4,
   "metadata": {},
   "outputs": [],
   "source": [
    "df_data = pd.read_json('20_newsgroup.ndjson', orient='records', lines=True)"
   ]
  },
  {
   "cell_type": "code",
   "execution_count": 5,
   "metadata": {},
   "outputs": [
    {
     "data": {
      "text/html": [
       "<div>\n",
       "<style scoped>\n",
       "    .dataframe tbody tr th:only-of-type {\n",
       "        vertical-align: middle;\n",
       "    }\n",
       "\n",
       "    .dataframe tbody tr th {\n",
       "        vertical-align: top;\n",
       "    }\n",
       "\n",
       "    .dataframe thead th {\n",
       "        text-align: right;\n",
       "    }\n",
       "</style>\n",
       "<table border=\"1\" class=\"dataframe\">\n",
       "  <thead>\n",
       "    <tr style=\"text-align: right;\">\n",
       "      <th></th>\n",
       "      <th>newsgroup</th>\n",
       "      <th>message</th>\n",
       "    </tr>\n",
       "  </thead>\n",
       "  <tbody>\n",
       "    <tr>\n",
       "      <th>0</th>\n",
       "      <td>rec.autos</td>\n",
       "      <td>From: lerxst@wam.umd.edu (where's my thing)\\nS...</td>\n",
       "    </tr>\n",
       "    <tr>\n",
       "      <th>1</th>\n",
       "      <td>comp.sys.mac.hardware</td>\n",
       "      <td>From: guykuo@carson.u.washington.edu (Guy Kuo)...</td>\n",
       "    </tr>\n",
       "    <tr>\n",
       "      <th>2</th>\n",
       "      <td>comp.sys.mac.hardware</td>\n",
       "      <td>From: twillis@ec.ecn.purdue.edu (Thomas E Will...</td>\n",
       "    </tr>\n",
       "    <tr>\n",
       "      <th>3</th>\n",
       "      <td>comp.graphics</td>\n",
       "      <td>From: jgreen@amber (Joe Green)\\nSubject: Re: W...</td>\n",
       "    </tr>\n",
       "    <tr>\n",
       "      <th>4</th>\n",
       "      <td>sci.space</td>\n",
       "      <td>From: jcm@head-cfa.harvard.edu (Jonathan McDow...</td>\n",
       "    </tr>\n",
       "    <tr>\n",
       "      <th>...</th>\n",
       "      <td>...</td>\n",
       "      <td>...</td>\n",
       "    </tr>\n",
       "    <tr>\n",
       "      <th>11309</th>\n",
       "      <td>sci.med</td>\n",
       "      <td>From: jim.zisfein@factory.com (Jim Zisfein) \\n...</td>\n",
       "    </tr>\n",
       "    <tr>\n",
       "      <th>11310</th>\n",
       "      <td>comp.sys.mac.hardware</td>\n",
       "      <td>From: ebodin@pearl.tufts.edu\\nSubject: Screen ...</td>\n",
       "    </tr>\n",
       "    <tr>\n",
       "      <th>11311</th>\n",
       "      <td>comp.sys.ibm.pc.hardware</td>\n",
       "      <td>From: westes@netcom.com (Will Estes)\\nSubject:...</td>\n",
       "    </tr>\n",
       "    <tr>\n",
       "      <th>11312</th>\n",
       "      <td>comp.graphics</td>\n",
       "      <td>From: steve@hcrlgw (Steven Collins)\\nSubject: ...</td>\n",
       "    </tr>\n",
       "    <tr>\n",
       "      <th>11313</th>\n",
       "      <td>rec.motorcycles</td>\n",
       "      <td>From: gunning@cco.caltech.edu (Kevin J. Gunnin...</td>\n",
       "    </tr>\n",
       "  </tbody>\n",
       "</table>\n",
       "<p>11314 rows × 2 columns</p>\n",
       "</div>"
      ],
      "text/plain": [
       "                      newsgroup  \\\n",
       "0                     rec.autos   \n",
       "1         comp.sys.mac.hardware   \n",
       "2         comp.sys.mac.hardware   \n",
       "3                 comp.graphics   \n",
       "4                     sci.space   \n",
       "...                         ...   \n",
       "11309                   sci.med   \n",
       "11310     comp.sys.mac.hardware   \n",
       "11311  comp.sys.ibm.pc.hardware   \n",
       "11312             comp.graphics   \n",
       "11313           rec.motorcycles   \n",
       "\n",
       "                                                 message  \n",
       "0      From: lerxst@wam.umd.edu (where's my thing)\\nS...  \n",
       "1      From: guykuo@carson.u.washington.edu (Guy Kuo)...  \n",
       "2      From: twillis@ec.ecn.purdue.edu (Thomas E Will...  \n",
       "3      From: jgreen@amber (Joe Green)\\nSubject: Re: W...  \n",
       "4      From: jcm@head-cfa.harvard.edu (Jonathan McDow...  \n",
       "...                                                  ...  \n",
       "11309  From: jim.zisfein@factory.com (Jim Zisfein) \\n...  \n",
       "11310  From: ebodin@pearl.tufts.edu\\nSubject: Screen ...  \n",
       "11311  From: westes@netcom.com (Will Estes)\\nSubject:...  \n",
       "11312  From: steve@hcrlgw (Steven Collins)\\nSubject: ...  \n",
       "11313  From: gunning@cco.caltech.edu (Kevin J. Gunnin...  \n",
       "\n",
       "[11314 rows x 2 columns]"
      ]
     },
     "execution_count": 5,
     "metadata": {},
     "output_type": "execute_result"
    }
   ],
   "source": [
    "df_data"
   ]
  },
  {
   "cell_type": "code",
   "execution_count": 6,
   "metadata": {},
   "outputs": [
    {
     "data": {
      "text/plain": [
       "rec.sport.hockey            600\n",
       "soc.religion.christian      599\n",
       "rec.motorcycles             598\n",
       "rec.sport.baseball          597\n",
       "sci.crypt                   595\n",
       "rec.autos                   594\n",
       "sci.med                     594\n",
       "comp.windows.x              593\n",
       "sci.space                   593\n",
       "comp.os.ms-windows.misc     591\n",
       "sci.electronics             591\n",
       "comp.sys.ibm.pc.hardware    590\n",
       "misc.forsale                585\n",
       "comp.graphics               584\n",
       "comp.sys.mac.hardware       578\n",
       "talk.politics.mideast       564\n",
       "talk.politics.guns          546\n",
       "alt.atheism                 480\n",
       "talk.politics.misc          465\n",
       "talk.religion.misc          377\n",
       "Name: newsgroup, dtype: int64"
      ]
     },
     "execution_count": 6,
     "metadata": {},
     "output_type": "execute_result"
    }
   ],
   "source": [
    "df_data['newsgroup'].value_counts()"
   ]
  },
  {
   "cell_type": "markdown",
   "metadata": {},
   "source": [
    "Exemplo de mensagem do grupo `sci.med`.\n",
    "\n",
    "Repare que, pelo padrão da mensagem de newsgroup, que é muito similar a um email, o texto começa com cabeçalhos no formato:\n",
    "\n",
    "```\n",
    "<nome>: <valor>\n",
    "```\n",
    "\n",
    "Seguido por uma linha em branco, ou seja, uma sequência de dois caracteres de quebra de linha (`\\n\\n`), seguido pelo corpo da mensagem."
   ]
  },
  {
   "cell_type": "code",
   "execution_count": 7,
   "metadata": {},
   "outputs": [
    {
     "name": "stdout",
     "output_type": "stream",
     "text": [
      "From: bmdelane@quads.uchicago.edu (brian manning delaney)\n",
      "Subject: Brain Tumor Treatment (thanks)\n",
      "Reply-To: bmdelane@midway.uchicago.edu\n",
      "Organization: University of Chicago\n",
      "Lines: 12\n",
      "\n",
      "There were a few people who responded to my request for info on\n",
      "treatment for astrocytomas through email, whom I couldn't thank\n",
      "directly because of mail-bouncing probs (Sean, Debra, and Sharon).  So\n",
      "I thought I'd publicly thank everyone.\n",
      "\n",
      "Thanks! \n",
      "\n",
      "(I'm sure glad I accidentally hit \"rn\" instead of \"rm\" when I was\n",
      "trying to delete a file last September. \"Hmmm... 'News?' What's\n",
      "this?\"....)\n",
      "\n",
      "-Brian\n",
      "\n"
     ]
    }
   ],
   "source": [
    "print(df_data.query('newsgroup == \"sci.med\"').iloc[0]['message'])"
   ]
  },
  {
   "cell_type": "markdown",
   "metadata": {},
   "source": [
    "# Configurações"
   ]
  },
  {
   "cell_type": "code",
   "execution_count": 8,
   "metadata": {},
   "outputs": [],
   "source": [
    "INDEX_NAME = '20newsgroup_teste_insercao'"
   ]
  },
  {
   "cell_type": "code",
   "execution_count": 47,
   "metadata": {},
   "outputs": [],
   "source": [
    "import nltk"
   ]
  },
  {
   "cell_type": "code",
   "execution_count": 49,
   "metadata": {},
   "outputs": [],
   "source": [
    "english_stopwords = nltk.corpus.stopwords.words('english')"
   ]
  },
  {
   "cell_type": "code",
   "execution_count": 46,
   "metadata": {},
   "outputs": [],
   "source": [
    "custom_stopwords = [\n",
    "    'from', 'subject', 'lines', 'organization', 'nntp',\n",
    "    'posting', 'hosts', 'writes', 'host', \"i'm\", \"i've\",\n",
    "    'would', 'like', 'one', 'distribution', 'know', 'get',\n",
    "    'think', 'even', 'go', 'say', 'many', 'time', 'want',\n",
    "    'much', 'us', 'could', 'also', 'reply', 're', 'i',\n",
    "    \"i'll\", \"you\", \"have\", 'university', 'article'\n",
    "]"
   ]
  },
  {
   "cell_type": "code",
   "execution_count": 51,
   "metadata": {},
   "outputs": [],
   "source": [
    "stopwords = list(set(english_stopwords) | set(custom_stopwords))"
   ]
  },
  {
   "cell_type": "code",
   "execution_count": 55,
   "metadata": {},
   "outputs": [],
   "source": [
    "INDEX_MAPPING = {\n",
    "    \"settings\": {\n",
    "        \"number_of_shards\": 3,\n",
    "        \"analysis\":{\n",
    "            \"analyzer\": {\n",
    "                \"email_analyzer\": {\n",
    "                    \"type\": \"custom\",\n",
    "                    \"tokenizer\": \"standard\",\n",
    "                    \"filter\": [\"asciifolding\", \"lowercase\",\"replace_numbers\", \"replace_puctuation\", \"stop_en\",\n",
    "                               \"stop_custom\"]\n",
    "                }\n",
    "            },\n",
    "            \"filter\": {\n",
    "                \"stop_en\": {\n",
    "                    \"type\": \"stop\",\n",
    "                    \"stopwords\": \"_english_\",\n",
    "                },\n",
    "                \"stop_custom\": {\n",
    "                    \"type\": \"stop\",\n",
    "\n",
    "                    \"stopwords\": stopwords\n",
    "                },\n",
    "                \"replace_numbers\": {\n",
    "                    \"type\": \"pattern_replace\",\n",
    "                    \"pattern\": \"([0-9]+)\",\n",
    "                    \"replacement\": \"\"\n",
    "                },\n",
    "                \"replace_puctuation\": {\n",
    "                    \"type\": \"pattern_replace\",\n",
    "                    \"pattern\": \"([.,]+)\",\n",
    "                    \"replacement\": \"\"\n",
    "                }\n",
    "            }\n",
    "        }\n",
    "    },\n",
    "    \"mappings\": {\n",
    "        \"properties\": {\n",
    "            \"newsgroup\": {\n",
    "                \"type\": \"text\",\n",
    "                \"fields\": {\n",
    "                    \"raw\": {\n",
    "                        \"type\": \"keyword\"\n",
    "                    }\n",
    "                }\n",
    "            },\n",
    "            \"message\": {\n",
    "                \"type\": \"text\",\n",
    "                \"analyzer\": \"email_analyzer\",\n",
    "                \"fielddata\": True,\n",
    "                \"fielddata_frequency_filter\": {\n",
    "                    \"min\": 0.01,\n",
    "                    \"min_segment_size\": 10,\n",
    "                }\n",
    "            }\n",
    "        }\n",
    "    }\n",
    "}"
   ]
  },
  {
   "cell_type": "markdown",
   "metadata": {},
   "source": [
    "# Inserção com operações simples"
   ]
  },
  {
   "cell_type": "code",
   "execution_count": 10,
   "metadata": {},
   "outputs": [
    {
     "data": {
      "text/plain": [
       "ObjectApiResponse({'acknowledged': True, 'shards_acknowledged': True, 'index': '20newsgroup_teste_insercao'})"
      ]
     },
     "execution_count": 10,
     "metadata": {},
     "output_type": "execute_result"
    }
   ],
   "source": [
    "# Apagar caso o indice exista\n",
    "if client.indices.exists(index=INDEX_NAME):\n",
    "    client.indices.delete(index=INDEX_NAME)\n",
    "client.indices.create(index=INDEX_NAME, **INDEX_MAPPING)"
   ]
  },
  {
   "cell_type": "code",
   "execution_count": 11,
   "metadata": {},
   "outputs": [
    {
     "name": "stdout",
     "output_type": "stream",
     "text": [
      "CPU times: user 19.2 s, sys: 858 ms, total: 20.1 s\n",
      "Wall time: 1min 7s\n"
     ]
    }
   ],
   "source": [
    "%%time\n",
    "with open('20_newsgroup.ndjson','r') as fin:\n",
    "    for line in fin:\n",
    "        document = json.loads(line)\n",
    "        client.index(index=INDEX_NAME, document=document)"
   ]
  },
  {
   "cell_type": "markdown",
   "metadata": {},
   "source": [
    "# Inserção com Bulk"
   ]
  },
  {
   "cell_type": "code",
   "execution_count": 12,
   "metadata": {},
   "outputs": [],
   "source": [
    "from elasticsearch.helpers import bulk"
   ]
  },
  {
   "cell_type": "markdown",
   "metadata": {},
   "source": [
    "Definindo uma **função geradora**, para retornar um documento por vez"
   ]
  },
  {
   "cell_type": "code",
   "execution_count": 19,
   "metadata": {},
   "outputs": [],
   "source": [
    "def gen_documents(filename):\n",
    "    with open('20_newsgroup.ndjson','r') as fin:\n",
    "        for line in fin:\n",
    "            yield json.loads(line)"
   ]
  },
  {
   "cell_type": "markdown",
   "metadata": {},
   "source": [
    "Definindo uma função geradora para transformar um **iterável de documentos** em um **iterável de ações bulk**"
   ]
  },
  {
   "cell_type": "code",
   "execution_count": 27,
   "metadata": {},
   "outputs": [],
   "source": [
    "def gen_index_actions(documents):\n",
    "    for doc in documents:\n",
    "        yield {\n",
    "            '_action': 'index',\n",
    "            '_index': INDEX_NAME,\n",
    "            **doc,\n",
    "        }"
   ]
  },
  {
   "cell_type": "code",
   "execution_count": 21,
   "metadata": {},
   "outputs": [
    {
     "data": {
      "text/plain": [
       "ObjectApiResponse({'acknowledged': True, 'shards_acknowledged': True, 'index': '20newsgroup_teste_insercao'})"
      ]
     },
     "execution_count": 21,
     "metadata": {},
     "output_type": "execute_result"
    }
   ],
   "source": [
    "# Apagar caso o indice exista\n",
    "if client.indices.exists(index=INDEX_NAME):\n",
    "    client.indices.delete(index=INDEX_NAME)\n",
    "client.indices.create(index=INDEX_NAME, **INDEX_MAPPING)"
   ]
  },
  {
   "cell_type": "code",
   "execution_count": 22,
   "metadata": {},
   "outputs": [
    {
     "name": "stdout",
     "output_type": "stream",
     "text": [
      "CPU times: user 924 ms, sys: 43.1 ms, total: 967 ms\n",
      "Wall time: 2.71 s\n"
     ]
    },
    {
     "data": {
      "text/plain": [
       "ObjectApiResponse({'_shards': {'total': 6, 'successful': 3, 'failed': 0}})"
      ]
     },
     "execution_count": 22,
     "metadata": {},
     "output_type": "execute_result"
    }
   ],
   "source": [
    "%%time\n",
    "documents = gen_documents('20_newsgroup.ndjson')\n",
    "actions = gen_index_actions(documents)\n",
    "\n",
    "success, errors = bulk(client, actions)\n",
    "\n",
    "client.indices.refresh(index=INDEX_NAME)\n",
    "client.indices.flush(index=INDEX_NAME)"
   ]
  },
  {
   "cell_type": "markdown",
   "metadata": {},
   "source": [
    "# Inserção Bulk Controlando o Refresh"
   ]
  },
  {
   "cell_type": "code",
   "execution_count": 56,
   "metadata": {},
   "outputs": [
    {
     "data": {
      "text/plain": [
       "ObjectApiResponse({'acknowledged': True, 'shards_acknowledged': True, 'index': '20newsgroup_teste_insercao'})"
      ]
     },
     "execution_count": 56,
     "metadata": {},
     "output_type": "execute_result"
    }
   ],
   "source": [
    "# Apagar caso o indice exista\n",
    "if client.indices.exists(index=INDEX_NAME):\n",
    "    client.indices.delete(index=INDEX_NAME)\n",
    "client.indices.create(index=INDEX_NAME, **INDEX_MAPPING)"
   ]
  },
  {
   "cell_type": "code",
   "execution_count": 57,
   "metadata": {},
   "outputs": [
    {
     "name": "stdout",
     "output_type": "stream",
     "text": [
      "CPU times: user 881 ms, sys: 39.1 ms, total: 920 ms\n",
      "Wall time: 3.6 s\n"
     ]
    },
    {
     "data": {
      "text/plain": [
       "ObjectApiResponse({'_shards': {'total': 6, 'successful': 3, 'failed': 0}})"
      ]
     },
     "execution_count": 57,
     "metadata": {},
     "output_type": "execute_result"
    }
   ],
   "source": [
    "%%time\n",
    "\n",
    "# Desligar Refresh no indice\n",
    "client.indices.put_settings(index=INDEX_NAME, settings={\"index\": {\"refresh_interval\": \"-1\"}})\n",
    "\n",
    "# Realizar a inserção em bulk (muitos documentos)\n",
    "documents = gen_documents('20_newsgroup.ndjson')\n",
    "actions = gen_index_actions(documents)\n",
    "\n",
    "success, errors = bulk(client, actions)\n",
    "\n",
    "# Restaurar a configuração padrão do Refresh\n",
    "client.indices.put_settings(index=INDEX_NAME, settings={\"index\": {\"refresh_interval\": \"2s\"}})\n",
    "\n",
    "# Refresh e Flush\n",
    "client.indices.refresh(index=INDEX_NAME)\n",
    "client.indices.flush(index=INDEX_NAME)"
   ]
  },
  {
   "cell_type": "code",
   "execution_count": null,
   "metadata": {},
   "outputs": [],
   "source": []
  }
 ],
 "metadata": {
  "kernelspec": {
   "display_name": "Python 3 (ipykernel)",
   "language": "python",
   "name": "python3"
  },
  "language_info": {
   "codemirror_mode": {
    "name": "ipython",
    "version": 3
   },
   "file_extension": ".py",
   "mimetype": "text/x-python",
   "name": "python",
   "nbconvert_exporter": "python",
   "pygments_lexer": "ipython3",
   "version": "3.9.1"
  }
 },
 "nbformat": 4,
 "nbformat_minor": 4
}
