{
 "cells": [
  {
   "cell_type": "markdown",
   "id": "58d4bdb3-f0b6-4228-abf1-ad7f23a5afd7",
   "metadata": {},
   "source": [
    "# Query \"More Like This\" e Classificação"
   ]
  },
  {
   "cell_type": "code",
   "execution_count": 1,
   "id": "2b20d56a-2279-4db9-8c65-2a8423bf2e37",
   "metadata": {},
   "outputs": [],
   "source": [
    "# Bibliotecas:\n",
    "import pandas as pd\n",
    "from tqdm.auto import tqdm\n",
    "from elasticsearch import Elasticsearch\n",
    "import urllib3\n",
    "import json\n",
    "from wordcloud import WordCloud\n",
    "import matplotlib.pyplot as plt"
   ]
  },
  {
   "cell_type": "code",
   "execution_count": 2,
   "id": "ec4c174b-2147-41b3-a4dc-eb6ca4554cc8",
   "metadata": {},
   "outputs": [
    {
     "name": "stderr",
     "output_type": "stream",
     "text": [
      "C:\\Users\\winicius.faquieri\\Anaconda3\\lib\\site-packages\\elasticsearch\\_sync\\client\\__init__.py:395: SecurityWarning: Connecting to 'https://localhost:9200' using TLS with verify_certs=False is insecure\n",
      "  _transport = transport_class(\n"
     ]
    },
    {
     "data": {
      "text/plain": [
       "<Elasticsearch(['https://localhost:9200'])>"
      ]
     },
     "execution_count": 2,
     "metadata": {},
     "output_type": "execute_result"
    }
   ],
   "source": [
    "import elasticsearch\n",
    "\n",
    "ES_URL = 'https://localhost:9200'\n",
    "ES_USER = 'elastic'\n",
    "ES_PASS = '08win0991i'\n",
    "\n",
    "client = Elasticsearch(\n",
    "    ES_URL,\n",
    "    basic_auth=(ES_USER, ES_PASS),\n",
    "    verify_certs=False\n",
    ")\n",
    "\n",
    "client"
   ]
  },
  {
   "cell_type": "code",
   "execution_count": 3,
   "id": "fc57a4f4-533c-47ff-aaa3-d99cf795c4cc",
   "metadata": {},
   "outputs": [],
   "source": [
    "# Desligando warning para facilitar nossa vida\n",
    "import urllib3\n",
    "urllib3.disable_warnings()"
   ]
  },
  {
   "cell_type": "code",
   "execution_count": 4,
   "id": "eb9cd496-d5f3-44f2-a8de-5e638a1770b6",
   "metadata": {},
   "outputs": [
    {
     "data": {
      "text/plain": [
       "ObjectApiResponse({'name': 'E012366', 'cluster_name': 'elasticsearch', 'cluster_uuid': 'Sy1H2ZYYQla4vTUqp3-s6A', 'version': {'number': '8.2.2', 'build_flavor': 'default', 'build_type': 'zip', 'build_hash': '9876968ef3c745186b94fdabd4483e01499224ef', 'build_date': '2022-05-25T15:47:06.259735307Z', 'build_snapshot': False, 'lucene_version': '9.1.0', 'minimum_wire_compatibility_version': '7.17.0', 'minimum_index_compatibility_version': '7.0.0'}, 'tagline': 'You Know, for Search'})"
      ]
     },
     "execution_count": 4,
     "metadata": {},
     "output_type": "execute_result"
    }
   ],
   "source": [
    "client.info()"
   ]
  },
  {
   "cell_type": "code",
   "execution_count": 5,
   "id": "a3297390-52fc-448c-8114-65ada513dacf",
   "metadata": {},
   "outputs": [],
   "source": [
    "INDEX_NAME = '20newsgroup_teste_insercao'"
   ]
  },
  {
   "cell_type": "markdown",
   "id": "a3d590c1-ef08-40e9-9672-bb442767a2f6",
   "metadata": {},
   "source": [
    "# Busca com um documento em string"
   ]
  },
  {
   "cell_type": "code",
   "execution_count": 6,
   "id": "3736d48a-67bf-4fb2-9c78-1142afd7c6a6",
   "metadata": {},
   "outputs": [],
   "source": [
    "doc = client.search(index=INDEX_NAME, q='windows', size=150)['hits']['hits'][-1]"
   ]
  },
  {
   "cell_type": "code",
   "execution_count": 11,
   "id": "866e4f2e-4e10-4927-ad3c-f6eb78c40d2a",
   "metadata": {},
   "outputs": [
    {
     "name": "stdout",
     "output_type": "stream",
     "text": [
      "From: paladin@world.std.com (Thomas G Schlatter)\n",
      "Subject: Re: Tidying up after removing an OLE server\n",
      "Keywords: OLE, SPSS\n",
      "Organization: The World Public Access UNIX, Brookline, MA\n",
      "Lines: 22\n",
      "\n",
      "In article <C5y121.Kz3@liverpool.ac.uk> qq43@liverpool.ac.uk (Chris Wooff) writes:\n",
      ">A while ago I installed SPSS for Windows as part of an evaluation. Once\n",
      ">the evaluation was complete I duly deleted the software from my PC.\n",
      ">\n",
      ">Unfortunately there is still a \"ghost\" of SPSS left: when I run\n",
      ">something like \"Write\" and go to embed an object then \"SPSS Chart\"\n",
      ">appears on the list of objects I'm offered. I looked around all\n",
      ">the obvious \"INI\" files without success. The next thing I tried\n",
      ">was looking for the string \"SPSS Chart\" in every file in the \n",
      ">Windows directory. It turned up in a file called REQ.DAT (or\n",
      ">REG.DAT). Unfortunately the file was binary and so I didn't feel\n",
      ">inclined to edit it.\n",
      ">\n",
      ">I'd welcome a solution for removing SPSS from the list of OLE servers.\n",
      " I think you can do this with REGEDIT, which can make changes\n",
      "to the OLE registration database.  From Program Manager (or \n",
      "File Manager) choose RUN and type REGEDIT.  You do have it-\n",
      "its included with Windows, but not well documented.\n",
      "\n",
      "Tom\n",
      "paladin@world.std.com\n",
      "\n",
      "\n"
     ]
    }
   ],
   "source": [
    "print(doc['_source']['message'])"
   ]
  },
  {
   "cell_type": "code",
   "execution_count": 13,
   "id": "132dcef7-d05b-44c2-808b-d657ddb7d4fe",
   "metadata": {},
   "outputs": [
    {
     "data": {
      "text/plain": [
       "ObjectApiResponse({'took': 87, 'timed_out': False, '_shards': {'total': 3, 'successful': 3, 'skipped': 0, 'failed': 0}, 'hits': {'total': {'value': 0, 'relation': 'eq'}, 'max_score': None, 'hits': []}})"
      ]
     },
     "execution_count": 13,
     "metadata": {},
     "output_type": "execute_result"
    }
   ],
   "source": [
    "QUERY = {\n",
    "    'more_like_this': {\n",
    "        'fields': ['message'],\n",
    "        'like': [\n",
    "            {\n",
    "                '_index': INDEX_NAME,\n",
    "                '_id': 'F4mTaYEBgNM6tyVNXMNu',\n",
    "            }\n",
    "        ],\n",
    "        'min_term_freq': 1,\n",
    "        'max_query_terms': 12,\n",
    "    }\n",
    "}\n",
    "resp = client.search(index=INDEX_NAME, query=QUERY, size=10)\n",
    "resp"
   ]
  },
  {
   "cell_type": "code",
   "execution_count": 9,
   "id": "e1dd5768-bb44-4e96-9617-fa83dbecf133",
   "metadata": {},
   "outputs": [],
   "source": [
    "resp_df = pd.DataFrame({'_id': x['_id'], '_score': x['_score'], **x['_source']} for x in resp['hits']['hits'])"
   ]
  },
  {
   "cell_type": "code",
   "execution_count": 10,
   "id": "64dda737-8bc2-4a67-9709-edee913b465b",
   "metadata": {},
   "outputs": [
    {
     "data": {
      "text/html": [
       "<div>\n",
       "<style scoped>\n",
       "    .dataframe tbody tr th:only-of-type {\n",
       "        vertical-align: middle;\n",
       "    }\n",
       "\n",
       "    .dataframe tbody tr th {\n",
       "        vertical-align: top;\n",
       "    }\n",
       "\n",
       "    .dataframe thead th {\n",
       "        text-align: right;\n",
       "    }\n",
       "</style>\n",
       "<table border=\"1\" class=\"dataframe\">\n",
       "  <thead>\n",
       "    <tr style=\"text-align: right;\">\n",
       "      <th></th>\n",
       "    </tr>\n",
       "  </thead>\n",
       "  <tbody>\n",
       "  </tbody>\n",
       "</table>\n",
       "</div>"
      ],
      "text/plain": [
       "Empty DataFrame\n",
       "Columns: []\n",
       "Index: []"
      ]
     },
     "execution_count": 10,
     "metadata": {},
     "output_type": "execute_result"
    }
   ],
   "source": [
    "resp_df"
   ]
  },
  {
   "cell_type": "markdown",
   "id": "f34e21b9-a047-4a3b-a90f-079fa8976c46",
   "metadata": {},
   "source": [
    "## Classificação baseado somente nos 10 mais próximos"
   ]
  },
  {
   "cell_type": "code",
   "execution_count": 43,
   "id": "de21c674-4b50-4790-90e1-2744724260b2",
   "metadata": {},
   "outputs": [
    {
     "data": {
      "text/plain": [
       "comp.sys.ibm.pc.hardware    3\n",
       "comp.graphics               2\n",
       "sci.electronics             2\n",
       "comp.os.ms-windows.misc     2\n",
       "soc.religion.christian      1\n",
       "Name: newsgroup, dtype: int64"
      ]
     },
     "execution_count": 43,
     "metadata": {},
     "output_type": "execute_result"
    }
   ],
   "source": [
    "resp_df['newsgroup'].value_counts()"
   ]
  },
  {
   "cell_type": "code",
   "execution_count": 49,
   "id": "8f761ce9-7aab-43e2-acfc-7d6a9176d7b5",
   "metadata": {},
   "outputs": [
    {
     "data": {
      "text/plain": [
       "'comp.graphics'"
      ]
     },
     "execution_count": 49,
     "metadata": {},
     "output_type": "execute_result"
    }
   ],
   "source": [
    "resp_df.groupby('newsgroup').sum().index[0]"
   ]
  },
  {
   "cell_type": "code",
   "execution_count": 50,
   "id": "df964a3a-93e2-41ba-9209-f3b21a93f532",
   "metadata": {},
   "outputs": [],
   "source": [
    "def classify_with_score(like, size=10):\n",
    "    \n",
    "    query = {\n",
    "        'more_like_this': {\n",
    "            'fields': ['message'],\n",
    "            'like': like,\n",
    "            'min_term_freq': 1,\n",
    "            'max_query_terms': 12,\n",
    "        }\n",
    "    }\n",
    "    resp = client.search(index=INDEX_NAME, query=query, size=size)\n",
    "    \n",
    "    resp_df = pd.DataFrame(\n",
    "        {\n",
    "            '_id': x['_id'],\n",
    "            '_score': x['_score'],\n",
    "            **x['_source']\n",
    "        } for x in resp['hits']['hits']\n",
    "    )\n",
    "    return resp_df.groupby('newsgroup').sum().index[0]\n",
    "    "
   ]
  },
  {
   "cell_type": "code",
   "execution_count": 14,
   "id": "97edda96",
   "metadata": {},
   "outputs": [
    {
     "ename": "KeyError",
     "evalue": "'newsgroup'",
     "output_type": "error",
     "traceback": [
      "\u001b[1;31m---------------------------------------------------------------------------\u001b[0m",
      "\u001b[1;31mKeyError\u001b[0m                                  Traceback (most recent call last)",
      "\u001b[1;32m~\\AppData\\Local\\Temp/ipykernel_2692/942048128.py\u001b[0m in \u001b[0;36m<module>\u001b[1;34m\u001b[0m\n\u001b[1;32m----> 1\u001b[1;33m \u001b[0mresp_df\u001b[0m\u001b[1;33m.\u001b[0m\u001b[0mgroupby\u001b[0m\u001b[1;33m(\u001b[0m\u001b[1;34m'newsgroup'\u001b[0m\u001b[1;33m)\u001b[0m\u001b[1;33m.\u001b[0m\u001b[0msum\u001b[0m\u001b[1;33m(\u001b[0m\u001b[1;33m)\u001b[0m\u001b[1;33m.\u001b[0m\u001b[0mindex\u001b[0m\u001b[1;33m[\u001b[0m\u001b[1;36m0\u001b[0m\u001b[1;33m]\u001b[0m\u001b[1;33m\u001b[0m\u001b[1;33m\u001b[0m\u001b[0m\n\u001b[0m",
      "\u001b[1;32m~\\Anaconda3\\lib\\site-packages\\pandas\\core\\frame.py\u001b[0m in \u001b[0;36mgroupby\u001b[1;34m(self, by, axis, level, as_index, sort, group_keys, squeeze, observed, dropna)\u001b[0m\n\u001b[0;32m   7629\u001b[0m         \u001b[1;31m# error: Argument \"squeeze\" to \"DataFrameGroupBy\" has incompatible type\u001b[0m\u001b[1;33m\u001b[0m\u001b[1;33m\u001b[0m\u001b[0m\n\u001b[0;32m   7630\u001b[0m         \u001b[1;31m# \"Union[bool, NoDefault]\"; expected \"bool\"\u001b[0m\u001b[1;33m\u001b[0m\u001b[1;33m\u001b[0m\u001b[0m\n\u001b[1;32m-> 7631\u001b[1;33m         return DataFrameGroupBy(\n\u001b[0m\u001b[0;32m   7632\u001b[0m             \u001b[0mobj\u001b[0m\u001b[1;33m=\u001b[0m\u001b[0mself\u001b[0m\u001b[1;33m,\u001b[0m\u001b[1;33m\u001b[0m\u001b[1;33m\u001b[0m\u001b[0m\n\u001b[0;32m   7633\u001b[0m             \u001b[0mkeys\u001b[0m\u001b[1;33m=\u001b[0m\u001b[0mby\u001b[0m\u001b[1;33m,\u001b[0m\u001b[1;33m\u001b[0m\u001b[1;33m\u001b[0m\u001b[0m\n",
      "\u001b[1;32m~\\Anaconda3\\lib\\site-packages\\pandas\\core\\groupby\\groupby.py\u001b[0m in \u001b[0;36m__init__\u001b[1;34m(self, obj, keys, axis, level, grouper, exclusions, selection, as_index, sort, group_keys, squeeze, observed, mutated, dropna)\u001b[0m\n\u001b[0;32m    887\u001b[0m             \u001b[1;32mfrom\u001b[0m \u001b[0mpandas\u001b[0m\u001b[1;33m.\u001b[0m\u001b[0mcore\u001b[0m\u001b[1;33m.\u001b[0m\u001b[0mgroupby\u001b[0m\u001b[1;33m.\u001b[0m\u001b[0mgrouper\u001b[0m \u001b[1;32mimport\u001b[0m \u001b[0mget_grouper\u001b[0m\u001b[1;33m\u001b[0m\u001b[1;33m\u001b[0m\u001b[0m\n\u001b[0;32m    888\u001b[0m \u001b[1;33m\u001b[0m\u001b[0m\n\u001b[1;32m--> 889\u001b[1;33m             grouper, exclusions, obj = get_grouper(\n\u001b[0m\u001b[0;32m    890\u001b[0m                 \u001b[0mobj\u001b[0m\u001b[1;33m,\u001b[0m\u001b[1;33m\u001b[0m\u001b[1;33m\u001b[0m\u001b[0m\n\u001b[0;32m    891\u001b[0m                 \u001b[0mkeys\u001b[0m\u001b[1;33m,\u001b[0m\u001b[1;33m\u001b[0m\u001b[1;33m\u001b[0m\u001b[0m\n",
      "\u001b[1;32m~\\Anaconda3\\lib\\site-packages\\pandas\\core\\groupby\\grouper.py\u001b[0m in \u001b[0;36mget_grouper\u001b[1;34m(obj, key, axis, level, sort, observed, mutated, validate, dropna)\u001b[0m\n\u001b[0;32m    860\u001b[0m                 \u001b[0min_axis\u001b[0m\u001b[1;33m,\u001b[0m \u001b[0mlevel\u001b[0m\u001b[1;33m,\u001b[0m \u001b[0mgpr\u001b[0m \u001b[1;33m=\u001b[0m \u001b[1;32mFalse\u001b[0m\u001b[1;33m,\u001b[0m \u001b[0mgpr\u001b[0m\u001b[1;33m,\u001b[0m \u001b[1;32mNone\u001b[0m\u001b[1;33m\u001b[0m\u001b[1;33m\u001b[0m\u001b[0m\n\u001b[0;32m    861\u001b[0m             \u001b[1;32melse\u001b[0m\u001b[1;33m:\u001b[0m\u001b[1;33m\u001b[0m\u001b[1;33m\u001b[0m\u001b[0m\n\u001b[1;32m--> 862\u001b[1;33m                 \u001b[1;32mraise\u001b[0m \u001b[0mKeyError\u001b[0m\u001b[1;33m(\u001b[0m\u001b[0mgpr\u001b[0m\u001b[1;33m)\u001b[0m\u001b[1;33m\u001b[0m\u001b[1;33m\u001b[0m\u001b[0m\n\u001b[0m\u001b[0;32m    863\u001b[0m         \u001b[1;32melif\u001b[0m \u001b[0misinstance\u001b[0m\u001b[1;33m(\u001b[0m\u001b[0mgpr\u001b[0m\u001b[1;33m,\u001b[0m \u001b[0mGrouper\u001b[0m\u001b[1;33m)\u001b[0m \u001b[1;32mand\u001b[0m \u001b[0mgpr\u001b[0m\u001b[1;33m.\u001b[0m\u001b[0mkey\u001b[0m \u001b[1;32mis\u001b[0m \u001b[1;32mnot\u001b[0m \u001b[1;32mNone\u001b[0m\u001b[1;33m:\u001b[0m\u001b[1;33m\u001b[0m\u001b[1;33m\u001b[0m\u001b[0m\n\u001b[0;32m    864\u001b[0m             \u001b[1;31m# Add key to exclusions\u001b[0m\u001b[1;33m\u001b[0m\u001b[1;33m\u001b[0m\u001b[0m\n",
      "\u001b[1;31mKeyError\u001b[0m: 'newsgroup'"
     ]
    }
   ],
   "source": [
    "resp_df.groupby('newsgroup').sum().index[0]"
   ]
  },
  {
   "cell_type": "code",
   "execution_count": 52,
   "id": "2b592255-3778-4304-bc8f-a661e76aca36",
   "metadata": {},
   "outputs": [
    {
     "data": {
      "text/plain": [
       "'soc.religion.christian'"
      ]
     },
     "execution_count": 52,
     "metadata": {},
     "output_type": "execute_result"
    }
   ],
   "source": [
    "like = [\n",
    "    {\n",
    "        '_index': INDEX_NAME,\n",
    "        '_id': 'SImTaYEBgNM6tyVNXMNu',\n",
    "    }\n",
    "]\n",
    "classify_with_score(like)"
   ]
  },
  {
   "cell_type": "code",
   "execution_count": 65,
   "id": "39e9658a-621a-42ad-b6a8-64bfd431e78b",
   "metadata": {},
   "outputs": [],
   "source": [
    "def classify_document(doc_id, size=10):\n",
    "    \n",
    "    return classify_with_score(\n",
    "        [\n",
    "            {\n",
    "                '_index': INDEX_NAME,\n",
    "                '_id': doc_id\n",
    "            }\n",
    "        ]\n",
    "    )"
   ]
  },
  {
   "cell_type": "code",
   "execution_count": 66,
   "id": "19ed308e-733d-45ef-8887-eb8143d81344",
   "metadata": {},
   "outputs": [
    {
     "data": {
      "text/plain": [
       "'soc.religion.christian'"
      ]
     },
     "execution_count": 66,
     "metadata": {},
     "output_type": "execute_result"
    }
   ],
   "source": [
    "classify_document('SImTaYEBgNM6tyVNXMNu')"
   ]
  },
  {
   "cell_type": "markdown",
   "id": "6575c558-4b43-4abf-b1d8-f4052d122a24",
   "metadata": {},
   "source": [
    "# Avaliando o \"classificador\""
   ]
  },
  {
   "cell_type": "code",
   "execution_count": 62,
   "id": "b0cd6609-f2c1-467f-b1cd-d85d1be094ec",
   "metadata": {},
   "outputs": [],
   "source": [
    "test_docs_resp = client.search(index=INDEX_NAME, size=100, _source=['newsgroup'])"
   ]
  },
  {
   "cell_type": "code",
   "execution_count": 63,
   "id": "fa169d39-a430-4688-ac8b-2890c36cf023",
   "metadata": {},
   "outputs": [],
   "source": [
    "test_docs = pd.DataFrame(\n",
    "        {\n",
    "            '_id': x['_id'],\n",
    "            **x['_source']\n",
    "        } for x in test_docs_resp['hits']['hits']\n",
    "    )"
   ]
  },
  {
   "cell_type": "code",
   "execution_count": 64,
   "id": "30badf49-891f-4f3d-bd54-8dd33c20b0b4",
   "metadata": {},
   "outputs": [
    {
     "data": {
      "text/html": [
       "<div>\n",
       "<style scoped>\n",
       "    .dataframe tbody tr th:only-of-type {\n",
       "        vertical-align: middle;\n",
       "    }\n",
       "\n",
       "    .dataframe tbody tr th {\n",
       "        vertical-align: top;\n",
       "    }\n",
       "\n",
       "    .dataframe thead th {\n",
       "        text-align: right;\n",
       "    }\n",
       "</style>\n",
       "<table border=\"1\" class=\"dataframe\">\n",
       "  <thead>\n",
       "    <tr style=\"text-align: right;\">\n",
       "      <th></th>\n",
       "      <th>_id</th>\n",
       "      <th>newsgroup</th>\n",
       "    </tr>\n",
       "  </thead>\n",
       "  <tbody>\n",
       "    <tr>\n",
       "      <th>0</th>\n",
       "      <td>Y4mTaYEBgNM6tyVNWLHP</td>\n",
       "      <td>rec.autos</td>\n",
       "    </tr>\n",
       "    <tr>\n",
       "      <th>1</th>\n",
       "      <td>ZomTaYEBgNM6tyVNWLHP</td>\n",
       "      <td>comp.graphics</td>\n",
       "    </tr>\n",
       "    <tr>\n",
       "      <th>2</th>\n",
       "      <td>bImTaYEBgNM6tyVNWLHP</td>\n",
       "      <td>comp.sys.mac.hardware</td>\n",
       "    </tr>\n",
       "    <tr>\n",
       "      <th>3</th>\n",
       "      <td>bomTaYEBgNM6tyVNWLHP</td>\n",
       "      <td>talk.religion.misc</td>\n",
       "    </tr>\n",
       "    <tr>\n",
       "      <th>4</th>\n",
       "      <td>cYmTaYEBgNM6tyVNWLHP</td>\n",
       "      <td>misc.forsale</td>\n",
       "    </tr>\n",
       "    <tr>\n",
       "      <th>...</th>\n",
       "      <td>...</td>\n",
       "      <td>...</td>\n",
       "    </tr>\n",
       "    <tr>\n",
       "      <th>95</th>\n",
       "      <td>SomTaYEBgNM6tyVNWLLQ</td>\n",
       "      <td>comp.os.ms-windows.misc</td>\n",
       "    </tr>\n",
       "    <tr>\n",
       "      <th>96</th>\n",
       "      <td>S4mTaYEBgNM6tyVNWLLQ</td>\n",
       "      <td>sci.space</td>\n",
       "    </tr>\n",
       "    <tr>\n",
       "      <th>97</th>\n",
       "      <td>TYmTaYEBgNM6tyVNWLLQ</td>\n",
       "      <td>comp.os.ms-windows.misc</td>\n",
       "    </tr>\n",
       "    <tr>\n",
       "      <th>98</th>\n",
       "      <td>UYmTaYEBgNM6tyVNWLLQ</td>\n",
       "      <td>rec.sport.baseball</td>\n",
       "    </tr>\n",
       "    <tr>\n",
       "      <th>99</th>\n",
       "      <td>U4mTaYEBgNM6tyVNWLLQ</td>\n",
       "      <td>soc.religion.christian</td>\n",
       "    </tr>\n",
       "  </tbody>\n",
       "</table>\n",
       "<p>100 rows × 2 columns</p>\n",
       "</div>"
      ],
      "text/plain": [
       "                     _id                newsgroup\n",
       "0   Y4mTaYEBgNM6tyVNWLHP                rec.autos\n",
       "1   ZomTaYEBgNM6tyVNWLHP            comp.graphics\n",
       "2   bImTaYEBgNM6tyVNWLHP    comp.sys.mac.hardware\n",
       "3   bomTaYEBgNM6tyVNWLHP       talk.religion.misc\n",
       "4   cYmTaYEBgNM6tyVNWLHP             misc.forsale\n",
       "..                   ...                      ...\n",
       "95  SomTaYEBgNM6tyVNWLLQ  comp.os.ms-windows.misc\n",
       "96  S4mTaYEBgNM6tyVNWLLQ                sci.space\n",
       "97  TYmTaYEBgNM6tyVNWLLQ  comp.os.ms-windows.misc\n",
       "98  UYmTaYEBgNM6tyVNWLLQ       rec.sport.baseball\n",
       "99  U4mTaYEBgNM6tyVNWLLQ   soc.religion.christian\n",
       "\n",
       "[100 rows x 2 columns]"
      ]
     },
     "execution_count": 64,
     "metadata": {},
     "output_type": "execute_result"
    }
   ],
   "source": [
    "test_docs"
   ]
  },
  {
   "cell_type": "code",
   "execution_count": 67,
   "id": "6d9d64d0-c28c-433c-b514-8beb67c6f823",
   "metadata": {},
   "outputs": [],
   "source": [
    "test_docs['predicted'] = test_docs['_id'].apply(classify_document)"
   ]
  },
  {
   "cell_type": "code",
   "execution_count": 68,
   "id": "4d679870-af29-4958-b8b5-fb8016fee92f",
   "metadata": {},
   "outputs": [
    {
     "data": {
      "text/html": [
       "<div>\n",
       "<style scoped>\n",
       "    .dataframe tbody tr th:only-of-type {\n",
       "        vertical-align: middle;\n",
       "    }\n",
       "\n",
       "    .dataframe tbody tr th {\n",
       "        vertical-align: top;\n",
       "    }\n",
       "\n",
       "    .dataframe thead th {\n",
       "        text-align: right;\n",
       "    }\n",
       "</style>\n",
       "<table border=\"1\" class=\"dataframe\">\n",
       "  <thead>\n",
       "    <tr style=\"text-align: right;\">\n",
       "      <th></th>\n",
       "      <th>_id</th>\n",
       "      <th>newsgroup</th>\n",
       "      <th>predicted</th>\n",
       "    </tr>\n",
       "  </thead>\n",
       "  <tbody>\n",
       "    <tr>\n",
       "      <th>0</th>\n",
       "      <td>Y4mTaYEBgNM6tyVNWLHP</td>\n",
       "      <td>rec.autos</td>\n",
       "      <td>misc.forsale</td>\n",
       "    </tr>\n",
       "    <tr>\n",
       "      <th>1</th>\n",
       "      <td>ZomTaYEBgNM6tyVNWLHP</td>\n",
       "      <td>comp.graphics</td>\n",
       "      <td>comp.graphics</td>\n",
       "    </tr>\n",
       "    <tr>\n",
       "      <th>2</th>\n",
       "      <td>bImTaYEBgNM6tyVNWLHP</td>\n",
       "      <td>comp.sys.mac.hardware</td>\n",
       "      <td>comp.graphics</td>\n",
       "    </tr>\n",
       "    <tr>\n",
       "      <th>3</th>\n",
       "      <td>bomTaYEBgNM6tyVNWLHP</td>\n",
       "      <td>talk.religion.misc</td>\n",
       "      <td>alt.atheism</td>\n",
       "    </tr>\n",
       "    <tr>\n",
       "      <th>4</th>\n",
       "      <td>cYmTaYEBgNM6tyVNWLHP</td>\n",
       "      <td>misc.forsale</td>\n",
       "      <td>misc.forsale</td>\n",
       "    </tr>\n",
       "    <tr>\n",
       "      <th>...</th>\n",
       "      <td>...</td>\n",
       "      <td>...</td>\n",
       "      <td>...</td>\n",
       "    </tr>\n",
       "    <tr>\n",
       "      <th>95</th>\n",
       "      <td>SomTaYEBgNM6tyVNWLLQ</td>\n",
       "      <td>comp.os.ms-windows.misc</td>\n",
       "      <td>comp.os.ms-windows.misc</td>\n",
       "    </tr>\n",
       "    <tr>\n",
       "      <th>96</th>\n",
       "      <td>S4mTaYEBgNM6tyVNWLLQ</td>\n",
       "      <td>sci.space</td>\n",
       "      <td>sci.space</td>\n",
       "    </tr>\n",
       "    <tr>\n",
       "      <th>97</th>\n",
       "      <td>TYmTaYEBgNM6tyVNWLLQ</td>\n",
       "      <td>comp.os.ms-windows.misc</td>\n",
       "      <td>comp.graphics</td>\n",
       "    </tr>\n",
       "    <tr>\n",
       "      <th>98</th>\n",
       "      <td>UYmTaYEBgNM6tyVNWLLQ</td>\n",
       "      <td>rec.sport.baseball</td>\n",
       "      <td>comp.windows.x</td>\n",
       "    </tr>\n",
       "    <tr>\n",
       "      <th>99</th>\n",
       "      <td>U4mTaYEBgNM6tyVNWLLQ</td>\n",
       "      <td>soc.religion.christian</td>\n",
       "      <td>comp.sys.mac.hardware</td>\n",
       "    </tr>\n",
       "  </tbody>\n",
       "</table>\n",
       "<p>100 rows × 3 columns</p>\n",
       "</div>"
      ],
      "text/plain": [
       "                     _id                newsgroup                predicted\n",
       "0   Y4mTaYEBgNM6tyVNWLHP                rec.autos             misc.forsale\n",
       "1   ZomTaYEBgNM6tyVNWLHP            comp.graphics            comp.graphics\n",
       "2   bImTaYEBgNM6tyVNWLHP    comp.sys.mac.hardware            comp.graphics\n",
       "3   bomTaYEBgNM6tyVNWLHP       talk.religion.misc              alt.atheism\n",
       "4   cYmTaYEBgNM6tyVNWLHP             misc.forsale             misc.forsale\n",
       "..                   ...                      ...                      ...\n",
       "95  SomTaYEBgNM6tyVNWLLQ  comp.os.ms-windows.misc  comp.os.ms-windows.misc\n",
       "96  S4mTaYEBgNM6tyVNWLLQ                sci.space                sci.space\n",
       "97  TYmTaYEBgNM6tyVNWLLQ  comp.os.ms-windows.misc            comp.graphics\n",
       "98  UYmTaYEBgNM6tyVNWLLQ       rec.sport.baseball           comp.windows.x\n",
       "99  U4mTaYEBgNM6tyVNWLLQ   soc.religion.christian    comp.sys.mac.hardware\n",
       "\n",
       "[100 rows x 3 columns]"
      ]
     },
     "execution_count": 68,
     "metadata": {},
     "output_type": "execute_result"
    }
   ],
   "source": [
    "test_docs"
   ]
  },
  {
   "cell_type": "code",
   "execution_count": 69,
   "id": "0650179b-0bc3-4d87-a933-2d2e0ec67062",
   "metadata": {},
   "outputs": [],
   "source": [
    "from sklearn.metrics import classification_report"
   ]
  },
  {
   "cell_type": "code",
   "execution_count": 70,
   "id": "7605a5f2-53f6-461b-8ca6-760e3f75f405",
   "metadata": {},
   "outputs": [
    {
     "name": "stdout",
     "output_type": "stream",
     "text": [
      "                          precision    recall  f1-score   support\n",
      "\n",
      "             alt.atheism       0.50      1.00      0.67         2\n",
      "           comp.graphics       0.39      0.88      0.54         8\n",
      " comp.os.ms-windows.misc       0.64      0.70      0.67        10\n",
      "comp.sys.ibm.pc.hardware       0.25      0.50      0.33         2\n",
      "   comp.sys.mac.hardware       0.80      0.57      0.67         7\n",
      "          comp.windows.x       0.33      0.50      0.40         4\n",
      "            misc.forsale       0.43      0.43      0.43         7\n",
      "               rec.autos       0.33      0.25      0.29         4\n",
      "         rec.motorcycles       0.80      0.57      0.67         7\n",
      "      rec.sport.baseball       1.00      0.40      0.57         5\n",
      "        rec.sport.hockey       1.00      0.80      0.89         5\n",
      "               sci.crypt       0.75      1.00      0.86         3\n",
      "         sci.electronics       0.00      0.00      0.00         3\n",
      "                 sci.med       1.00      0.40      0.57         5\n",
      "               sci.space       1.00      1.00      1.00         8\n",
      "  soc.religion.christian       1.00      0.78      0.88         9\n",
      "      talk.politics.guns       1.00      1.00      1.00         3\n",
      "   talk.politics.mideast       1.00      0.83      0.91         6\n",
      "      talk.politics.misc       1.00      1.00      1.00         1\n",
      "      talk.religion.misc       0.00      0.00      0.00         1\n",
      "\n",
      "                accuracy                           0.66       100\n",
      "               macro avg       0.66      0.63      0.62       100\n",
      "            weighted avg       0.72      0.66      0.66       100\n",
      "\n"
     ]
    },
    {
     "name": "stderr",
     "output_type": "stream",
     "text": [
      "/home/felipefg/.pyenv/versions/3.9.1/envs/infnet/lib/python3.9/site-packages/sklearn/metrics/_classification.py:1327: UndefinedMetricWarning: Precision and F-score are ill-defined and being set to 0.0 in labels with no predicted samples. Use `zero_division` parameter to control this behavior.\n",
      "  _warn_prf(average, modifier, msg_start, len(result))\n",
      "/home/felipefg/.pyenv/versions/3.9.1/envs/infnet/lib/python3.9/site-packages/sklearn/metrics/_classification.py:1327: UndefinedMetricWarning: Precision and F-score are ill-defined and being set to 0.0 in labels with no predicted samples. Use `zero_division` parameter to control this behavior.\n",
      "  _warn_prf(average, modifier, msg_start, len(result))\n",
      "/home/felipefg/.pyenv/versions/3.9.1/envs/infnet/lib/python3.9/site-packages/sklearn/metrics/_classification.py:1327: UndefinedMetricWarning: Precision and F-score are ill-defined and being set to 0.0 in labels with no predicted samples. Use `zero_division` parameter to control this behavior.\n",
      "  _warn_prf(average, modifier, msg_start, len(result))\n"
     ]
    }
   ],
   "source": [
    "print(\n",
    "    classification_report(\n",
    "        test_docs['newsgroup'],\n",
    "        test_docs['predicted']\n",
    "    )\n",
    ")"
   ]
  },
  {
   "cell_type": "code",
   "execution_count": null,
   "id": "12276f62-8e78-4afd-8f4a-b09d89f3f929",
   "metadata": {},
   "outputs": [],
   "source": []
  }
 ],
 "metadata": {
  "kernelspec": {
   "display_name": "Python 3 (ipykernel)",
   "language": "python",
   "name": "python3"
  },
  "language_info": {
   "codemirror_mode": {
    "name": "ipython",
    "version": 3
   },
   "file_extension": ".py",
   "mimetype": "text/x-python",
   "name": "python",
   "nbconvert_exporter": "python",
   "pygments_lexer": "ipython3",
   "version": "3.9.7"
  }
 },
 "nbformat": 4,
 "nbformat_minor": 5
}
